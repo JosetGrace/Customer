{
 "cells": [
  {
   "cell_type": "markdown",
   "id": "5c4141a9-7647-4466-a648-0f09f11784d0",
   "metadata": {},
   "source": [
    "<div style=\"text-align: center; padding: 10px; background-color: #2a0a88; color:#ffffff; font-size: 30px; box-shadow: 0px 4px 8px rgba(0, 0, 0, 0.1);\">CUSTOMER SEGMENTATION PREDICTION SYSTEM</div>\n",
    "\n",
    "\n",
    "\n",
    "\n"
   ]
  },
  {
   "cell_type": "markdown",
   "id": "8fefebb1-fc41-41e9-94aa-261319829c5e",
   "metadata": {},
   "source": [
    "<div style=\"text-align: center; padding: 10px;  color:#fa0f0f; font-size: 25px; box-shadow: 0px 4px 8px rgba(0, 0, 0, 0.1);\">JOSEPHINE TAIWO KAYODE</div>"
   ]
  },
  {
   "cell_type": "markdown",
   "id": "cc60174c-d64d-427d-af90-71783d8b30ee",
   "metadata": {},
   "source": [
    "<div style= \"text-align: center; padding: 10px;  color:#3811c7 font-size: 30px;>JOSEPHINE TAIWO KAYODE</div>"
   ]
  },
  {
   "cell_type": "markdown",
   "id": "76b8ec02-a1d4-4efe-8e5d-f0754ff532e6",
   "metadata": {},
   "source": [
    "\n",
    "\n",
    "><img src = \"Image/imt.jpg\" style=\"display: block; margin: auto;\"/>/>"
   ]
  },
  {
   "cell_type": "markdown",
   "id": "cedb5d93-55e6-4fde-bf2f-68e0fcbf59b4",
   "metadata": {},
   "source": [
    "<div style=\"text-align: Left; padding: 10px; background-color:#3811c7; color:#ffffff; font-size: 26px; box-shadow: 0px 4px 8px rgba(0, 0, 0, 0.1);\">1.0 INTRODUCTION</div>\n",
    "\n"
   ]
  },
  {
   "cell_type": "markdown",
   "id": "9ec25424-63bc-4a69-90cc-23390e593722",
   "metadata": {},
   "source": [
    "A Customer Segmentation Prediction System is a data-driven solution designed to categorize and predict the behavior or characteristics of customers, enabling businesses to tailor their strategies and interactions more effectively. \n",
    "\n",
    "In the pursuit of market expansion, an esteemed automobile company plans to replicate its successful customer segmentation strategy in a new market with similar behavioral characteristics. Customer segmentation, a methodical classification of consumers into distinct groups based on shared characteristics, has proven instrumental in the company's existing market.\n",
    "\n",
    "Having meticulously classified customers into four segments (A, B, C, D) in their current market, the company now aims to extend this proven approach to 2627 new potential customers in unexplored territories. Our role in this venture is to leverage predictive analytics to discern the most fitting customer segments for the identified prospects.\r\n",
    "\r\n",
    "By applying data-driven methodologies, we seek to provide the company's manager with precise insights, enabling them to implement targeted outreach and communication strategies. This approach not only ensures a seamless transition into new markets but also fosters personalized engagement with customers based on their unique preferences and behaviors."
   ]
  },
  {
   "cell_type": "markdown",
   "id": "c5b02cd1-cd7d-4aff-9dde-c54ece04c25e",
   "metadata": {},
   "source": [
    "## 1.1 Import Packages"
   ]
  },
  {
   "cell_type": "markdown",
   "id": "37d5eb57-0c67-4a7e-aa76-8913198e6055",
   "metadata": {},
   "source": [
    "Imagine our data project as a blockbuster movie, and these import packages are the A-list actors ready to steal the show!\r\n",
    "\n",
    "NumPy (import numpy as np): NumPy is a fundamental library for numerical operations and array handling. In our customer segmentation project, it provides the backbone for efficient mathematical computations.\r\n",
    "\r\n",
    "Pandas (import pandas as pd): Pandas is essential for data manipulation and analysis, especially when working with tabular data. It allows us to organize, clean, and explore our customer data efficientlels.\r\n",
    "\r\n",
    "Scikit-learn (from sklearn.preprocessing import StandardScaler): The StandardScaler from Scikit-learn is important for standardizing features. In the context of customer segmentation, standardization ensures that different features contribute equally to the analysis.\r\n",
    "\r\n",
    "Matplotlib (import matplotlib.pyplot as plt): Matplotlib is a widely-used plotting library. It allows us to create various charts and plots, supporting our data visualization efforts in understanding customer behavior.\r\n",
    "\r\n",
    "Seaborn (import seaborn as sns): Seaborn builds on Matplotlib and provides a high-level interface for creating aesthetically pleasing statistical graphics. It enhances our data visualizations, making it easier to explore relationships within our customer dataset.\r\n",
    "\r\n",
    "%matplotlib inline: This magic command ensures that any plots we create using Matplotlib are displayed directly in our Jupyter Notebook, facilitating a seamless and integrated data exploration\n",
    "\n",
    "OneHotEncoder (from sklearn.preprocessing import OneHotEncoder): OneHotEncoder is used for converting categorical variables with multiple levels into a binary matrix, often referred to as one-hot encoding. In the context of customer segmentation, this is valuable when dealing with categorical features that do not have a meaningful ordinal relationship.\r\n",
    "\r\n",
    "LabelEncoder (from sklearn.preprocessing import LabelEncoder): LabelEncoder is useful for encoding categorical labels with meaningful ordinal relationships into numerical format. It is commonly used when dealing with the target variable or categorical features with an inhxperience.iece.\r\n",
    "\r\n",
    "In this project, the major language is Python"
   ]
  },
  {
   "cell_type": "code",
   "execution_count": 1,
   "id": "4608a968-b37d-4b86-a2b8-ebddd1dfb5b6",
   "metadata": {},
   "outputs": [],
   "source": [
    "# data loading and manipulation libraries\n",
    "import pandas as pd\n",
    "import numpy as np\n",
    "import matplotlib.pyplot as plt\n",
    "\n",
    "\n",
    "#data Preprocessing\n",
    "from sklearn.preprocessing import OneHotEncoder\n",
    "from sklearn.preprocessing import LabelEncoder \n",
    "\n",
    "# data visualization\n",
    "import matplotlib.pyplot as plt\n",
    "import seaborn as sns\n",
    "\n",
    "\n",
    "\n",
    "# data modeling \n",
    "from sklearn.model_selection import train_test_split\n",
    "from sklearn.linear_model import LogisticRegression\n",
    "from sklearn.tree import DecisionTreeClassifier\n",
    "from sklearn.ensemble import RandomForestClassifier\n",
    "from sklearn.neighbors import KNeighborsClassifier\n",
    "from sklearn.linear_model import RidgeClassifier\n",
    "\n",
    "\n",
    "\n",
    "# model evaluation\n",
    "from sklearn.metrics import classification_report\n",
    "from sklearn.metrics import recall_score\n",
    "from sklearn.metrics import precision_score\n",
    "from sklearn.metrics import f1_score\n",
    "import pickle as pkl\n",
    "\n",
    "\n",
    "\n",
    "#Taking Out Warnings for clarity (This is to ease the comprehension of the project)\n",
    "import warnings\n",
    "warnings.filterwarnings(\"ignore\")"
   ]
  },
  {
   "cell_type": "markdown",
   "id": "4e7dbfc5-a2df-4d0f-b884-b9ab31700dfa",
   "metadata": {},
   "source": [
    "## 1.2 Import Dataset"
   ]
  },
  {
   "cell_type": "markdown",
   "id": "3e4150b2-ed61-4eab-b81c-2895137968b3",
   "metadata": {},
   "source": [
    "In this pivotal phase, we initiate the groundwork for our Customer Segmentation Prediction System by importing the dataset into our analysis environment. The dataset, residing at \"dataset/train.csv\", is meticulously loaded into a Pandas DataFrame named 'df,' setting the stage for a comprehensive examination."
   ]
  },
  {
   "cell_type": "code",
   "execution_count": 2,
   "id": "ad6475f8-fa81-4686-aadc-9065e409934c",
   "metadata": {},
   "outputs": [],
   "source": [
    "df = pd.read_csv(\"dataset/train.csv\")"
   ]
  },
  {
   "cell_type": "code",
   "execution_count": 3,
   "id": "297b7d34-ff0b-4322-b40a-61abe2887c3f",
   "metadata": {},
   "outputs": [
    {
     "data": {
      "text/html": [
       "<div>\n",
       "<style scoped>\n",
       "    .dataframe tbody tr th:only-of-type {\n",
       "        vertical-align: middle;\n",
       "    }\n",
       "\n",
       "    .dataframe tbody tr th {\n",
       "        vertical-align: top;\n",
       "    }\n",
       "\n",
       "    .dataframe thead th {\n",
       "        text-align: right;\n",
       "    }\n",
       "</style>\n",
       "<table border=\"1\" class=\"dataframe\">\n",
       "  <thead>\n",
       "    <tr style=\"text-align: right;\">\n",
       "      <th></th>\n",
       "      <th>ID</th>\n",
       "      <th>Gender</th>\n",
       "      <th>Ever_Married</th>\n",
       "      <th>Age</th>\n",
       "      <th>Graduated</th>\n",
       "      <th>Profession</th>\n",
       "      <th>Work_Experience</th>\n",
       "      <th>Spending_Score</th>\n",
       "      <th>Family_Size</th>\n",
       "      <th>Var_1</th>\n",
       "      <th>Segmentation</th>\n",
       "    </tr>\n",
       "  </thead>\n",
       "  <tbody>\n",
       "    <tr>\n",
       "      <th>0</th>\n",
       "      <td>462809</td>\n",
       "      <td>Male</td>\n",
       "      <td>No</td>\n",
       "      <td>22</td>\n",
       "      <td>No</td>\n",
       "      <td>Healthcare</td>\n",
       "      <td>1.0</td>\n",
       "      <td>Low</td>\n",
       "      <td>4.0</td>\n",
       "      <td>Cat_4</td>\n",
       "      <td>D</td>\n",
       "    </tr>\n",
       "    <tr>\n",
       "      <th>1</th>\n",
       "      <td>462643</td>\n",
       "      <td>Female</td>\n",
       "      <td>Yes</td>\n",
       "      <td>38</td>\n",
       "      <td>Yes</td>\n",
       "      <td>Engineer</td>\n",
       "      <td>NaN</td>\n",
       "      <td>Average</td>\n",
       "      <td>3.0</td>\n",
       "      <td>Cat_4</td>\n",
       "      <td>A</td>\n",
       "    </tr>\n",
       "    <tr>\n",
       "      <th>2</th>\n",
       "      <td>466315</td>\n",
       "      <td>Female</td>\n",
       "      <td>Yes</td>\n",
       "      <td>67</td>\n",
       "      <td>Yes</td>\n",
       "      <td>Engineer</td>\n",
       "      <td>1.0</td>\n",
       "      <td>Low</td>\n",
       "      <td>1.0</td>\n",
       "      <td>Cat_6</td>\n",
       "      <td>B</td>\n",
       "    </tr>\n",
       "    <tr>\n",
       "      <th>3</th>\n",
       "      <td>461735</td>\n",
       "      <td>Male</td>\n",
       "      <td>Yes</td>\n",
       "      <td>67</td>\n",
       "      <td>Yes</td>\n",
       "      <td>Lawyer</td>\n",
       "      <td>0.0</td>\n",
       "      <td>High</td>\n",
       "      <td>2.0</td>\n",
       "      <td>Cat_6</td>\n",
       "      <td>B</td>\n",
       "    </tr>\n",
       "    <tr>\n",
       "      <th>4</th>\n",
       "      <td>462669</td>\n",
       "      <td>Female</td>\n",
       "      <td>Yes</td>\n",
       "      <td>40</td>\n",
       "      <td>Yes</td>\n",
       "      <td>Entertainment</td>\n",
       "      <td>NaN</td>\n",
       "      <td>High</td>\n",
       "      <td>6.0</td>\n",
       "      <td>Cat_6</td>\n",
       "      <td>A</td>\n",
       "    </tr>\n",
       "    <tr>\n",
       "      <th>...</th>\n",
       "      <td>...</td>\n",
       "      <td>...</td>\n",
       "      <td>...</td>\n",
       "      <td>...</td>\n",
       "      <td>...</td>\n",
       "      <td>...</td>\n",
       "      <td>...</td>\n",
       "      <td>...</td>\n",
       "      <td>...</td>\n",
       "      <td>...</td>\n",
       "      <td>...</td>\n",
       "    </tr>\n",
       "    <tr>\n",
       "      <th>8063</th>\n",
       "      <td>464018</td>\n",
       "      <td>Male</td>\n",
       "      <td>No</td>\n",
       "      <td>22</td>\n",
       "      <td>No</td>\n",
       "      <td>NaN</td>\n",
       "      <td>0.0</td>\n",
       "      <td>Low</td>\n",
       "      <td>7.0</td>\n",
       "      <td>Cat_1</td>\n",
       "      <td>D</td>\n",
       "    </tr>\n",
       "    <tr>\n",
       "      <th>8064</th>\n",
       "      <td>464685</td>\n",
       "      <td>Male</td>\n",
       "      <td>No</td>\n",
       "      <td>35</td>\n",
       "      <td>No</td>\n",
       "      <td>Executive</td>\n",
       "      <td>3.0</td>\n",
       "      <td>Low</td>\n",
       "      <td>4.0</td>\n",
       "      <td>Cat_4</td>\n",
       "      <td>D</td>\n",
       "    </tr>\n",
       "    <tr>\n",
       "      <th>8065</th>\n",
       "      <td>465406</td>\n",
       "      <td>Female</td>\n",
       "      <td>No</td>\n",
       "      <td>33</td>\n",
       "      <td>Yes</td>\n",
       "      <td>Healthcare</td>\n",
       "      <td>1.0</td>\n",
       "      <td>Low</td>\n",
       "      <td>1.0</td>\n",
       "      <td>Cat_6</td>\n",
       "      <td>D</td>\n",
       "    </tr>\n",
       "    <tr>\n",
       "      <th>8066</th>\n",
       "      <td>467299</td>\n",
       "      <td>Female</td>\n",
       "      <td>No</td>\n",
       "      <td>27</td>\n",
       "      <td>Yes</td>\n",
       "      <td>Healthcare</td>\n",
       "      <td>1.0</td>\n",
       "      <td>Low</td>\n",
       "      <td>4.0</td>\n",
       "      <td>Cat_6</td>\n",
       "      <td>B</td>\n",
       "    </tr>\n",
       "    <tr>\n",
       "      <th>8067</th>\n",
       "      <td>461879</td>\n",
       "      <td>Male</td>\n",
       "      <td>Yes</td>\n",
       "      <td>37</td>\n",
       "      <td>Yes</td>\n",
       "      <td>Executive</td>\n",
       "      <td>0.0</td>\n",
       "      <td>Average</td>\n",
       "      <td>3.0</td>\n",
       "      <td>Cat_4</td>\n",
       "      <td>B</td>\n",
       "    </tr>\n",
       "  </tbody>\n",
       "</table>\n",
       "<p>8068 rows × 11 columns</p>\n",
       "</div>"
      ],
      "text/plain": [
       "          ID  Gender Ever_Married  Age Graduated     Profession  \\\n",
       "0     462809    Male           No   22        No     Healthcare   \n",
       "1     462643  Female          Yes   38       Yes       Engineer   \n",
       "2     466315  Female          Yes   67       Yes       Engineer   \n",
       "3     461735    Male          Yes   67       Yes         Lawyer   \n",
       "4     462669  Female          Yes   40       Yes  Entertainment   \n",
       "...      ...     ...          ...  ...       ...            ...   \n",
       "8063  464018    Male           No   22        No            NaN   \n",
       "8064  464685    Male           No   35        No      Executive   \n",
       "8065  465406  Female           No   33       Yes     Healthcare   \n",
       "8066  467299  Female           No   27       Yes     Healthcare   \n",
       "8067  461879    Male          Yes   37       Yes      Executive   \n",
       "\n",
       "      Work_Experience Spending_Score  Family_Size  Var_1 Segmentation  \n",
       "0                 1.0            Low          4.0  Cat_4            D  \n",
       "1                 NaN        Average          3.0  Cat_4            A  \n",
       "2                 1.0            Low          1.0  Cat_6            B  \n",
       "3                 0.0           High          2.0  Cat_6            B  \n",
       "4                 NaN           High          6.0  Cat_6            A  \n",
       "...               ...            ...          ...    ...          ...  \n",
       "8063              0.0            Low          7.0  Cat_1            D  \n",
       "8064              3.0            Low          4.0  Cat_4            D  \n",
       "8065              1.0            Low          1.0  Cat_6            D  \n",
       "8066              1.0            Low          4.0  Cat_6            B  \n",
       "8067              0.0        Average          3.0  Cat_4            B  \n",
       "\n",
       "[8068 rows x 11 columns]"
      ]
     },
     "execution_count": 3,
     "metadata": {},
     "output_type": "execute_result"
    }
   ],
   "source": [
    "df"
   ]
  },
  {
   "cell_type": "markdown",
   "id": "c7fa0cc4-8ec4-4ca1-b112-735f11bc6299",
   "metadata": {},
   "source": [
    "<div style=\"text-align: Left; padding: 10px; background-color:#3811c7; color:#ffffff; font-size: 26px; box-shadow: 0px 4px 8px rgba(0, 0, 0, 0.1);\">2.0 EXPLORATORY DATA ANALYSIS</div>\n",
    "\n"
   ]
  },
  {
   "cell_type": "markdown",
   "id": "af77b6c8-1de9-4ac1-8350-a884ac48efd4",
   "metadata": {},
   "source": [
    "In this section, we embark on a formal exploration of our dataset, laying the groundwork for the Customer Segmentation Prediction System. The judicious application of Exploratory Data Analysis (EDA) techniques unveils critical insights into the nature of our data, paving the way for informed decision-making."
   ]
  },
  {
   "cell_type": "markdown",
   "id": "a99367ef-9423-4fe9-9c13-384f0c4c3019",
   "metadata": {},
   "source": [
    "### 2.1 BRIEF OVERVIEW"
   ]
  },
  {
   "cell_type": "markdown",
   "id": "a0d663cc-2444-4510-bb5a-16330f607767",
   "metadata": {},
   "source": [
    "This section lays the foundation for our data exploration and modeling journey. By importing essential Python packages, we equip ourselves with powerful tools for numerical operations, data manipulation, machine learning, and data visualization. Each package serves a specific purpose, from handling arrays with NumPy to enhancing data visualizations with Seaborn. The integration of these libraries sets the stage for an effective and comprehensive analysis of customer segmentation."
   ]
  },
  {
   "cell_type": "markdown",
   "id": "7e92405d-03a6-4d43-9273-5bf95573f285",
   "metadata": {},
   "source": [
    "The `.info()` method provides a comprehensive overview of our dataset.\n",
    "This includes information on the number of entries (rows) and features (columns), data types of each feature, and the count of non-null values.\n",
    "\n",
    "\n"
   ]
  },
  {
   "cell_type": "markdown",
   "id": "bb9a5887-77a7-48ec-a96c-1b7b63a22668",
   "metadata": {},
   "source": [
    "The dataset for this project consist of 8068 rows and 57 columns"
   ]
  },
  {
   "cell_type": "code",
   "execution_count": 4,
   "id": "ead85c0c-7b54-45a0-b4fe-b31e282d375d",
   "metadata": {},
   "outputs": [
    {
     "name": "stdout",
     "output_type": "stream",
     "text": [
      "<class 'pandas.core.frame.DataFrame'>\n",
      "RangeIndex: 8068 entries, 0 to 8067\n",
      "Data columns (total 11 columns):\n",
      " #   Column           Non-Null Count  Dtype  \n",
      "---  ------           --------------  -----  \n",
      " 0   ID               8068 non-null   int64  \n",
      " 1   Gender           8068 non-null   object \n",
      " 2   Ever_Married     7928 non-null   object \n",
      " 3   Age              8068 non-null   int64  \n",
      " 4   Graduated        7990 non-null   object \n",
      " 5   Profession       7944 non-null   object \n",
      " 6   Work_Experience  7239 non-null   float64\n",
      " 7   Spending_Score   8068 non-null   object \n",
      " 8   Family_Size      7733 non-null   float64\n",
      " 9   Var_1            7992 non-null   object \n",
      " 10  Segmentation     8068 non-null   object \n",
      "dtypes: float64(2), int64(2), object(7)\n",
      "memory usage: 693.5+ KB\n"
     ]
    }
   ],
   "source": [
    "df.info()"
   ]
  },
  {
   "cell_type": "markdown",
   "id": "cbba8c4c-d4eb-4d9f-9004-03988a13dcb3",
   "metadata": {},
   "source": [
    "The .describe() method provides a statistical summary of the variables, including measures like mean, standard deviation, minimum, and maximum.\n",
    "Conducting a quick quality check through .describe() helps us identify unexpected patterns or discrepancies in the data."
   ]
  },
  {
   "cell_type": "code",
   "execution_count": 5,
   "id": "5a7c319d-9071-4fa3-a41b-263ce9366e32",
   "metadata": {},
   "outputs": [
    {
     "data": {
      "text/plain": [
       "count      8068.000000\n",
       "mean     463479.214551\n",
       "std        2595.381232\n",
       "min      458982.000000\n",
       "25%      461240.750000\n",
       "50%      463472.500000\n",
       "75%      465744.250000\n",
       "max      467974.000000\n",
       "Name: ID, dtype: float64"
      ]
     },
     "execution_count": 5,
     "metadata": {},
     "output_type": "execute_result"
    }
   ],
   "source": [
    "df['ID'].describe()"
   ]
  },
  {
   "cell_type": "markdown",
   "id": "bd96d8d3-1475-42fa-a81c-a80b310b0767",
   "metadata": {},
   "source": [
    "Removing the ID column improves model generalization by eliminating irrelevant noise, allowing the model to focus on meaningful patterns and enhancing its performance on new data."
   ]
  },
  {
   "cell_type": "code",
   "execution_count": 6,
   "id": "0182e362-299b-4a25-9633-09c85eed5c86",
   "metadata": {},
   "outputs": [],
   "source": [
    "df.drop('ID', axis=1, inplace = True)"
   ]
  },
  {
   "cell_type": "code",
   "execution_count": 7,
   "id": "2a5d1140-faa6-4557-b190-791c329b7f57",
   "metadata": {},
   "outputs": [
    {
     "data": {
      "text/plain": [
       "count     8068\n",
       "unique       2\n",
       "top       Male\n",
       "freq      4417\n",
       "Name: Gender, dtype: object"
      ]
     },
     "execution_count": 7,
     "metadata": {},
     "output_type": "execute_result"
    }
   ],
   "source": [
    "df['Gender'].describe()"
   ]
  },
  {
   "cell_type": "code",
   "execution_count": 8,
   "id": "4364deec-dd48-4e08-87cb-50005efe2c2e",
   "metadata": {},
   "outputs": [
    {
     "data": {
      "text/plain": [
       "count     7928\n",
       "unique       2\n",
       "top        Yes\n",
       "freq      4643\n",
       "Name: Ever_Married, dtype: object"
      ]
     },
     "execution_count": 8,
     "metadata": {},
     "output_type": "execute_result"
    }
   ],
   "source": [
    "df['Ever_Married'].describe()"
   ]
  },
  {
   "cell_type": "code",
   "execution_count": 9,
   "id": "ddd543ae-dc07-4786-9e19-de5878f5e586",
   "metadata": {},
   "outputs": [
    {
     "data": {
      "text/plain": [
       "count    8068.000000\n",
       "mean       43.466906\n",
       "std        16.711696\n",
       "min        18.000000\n",
       "25%        30.000000\n",
       "50%        40.000000\n",
       "75%        53.000000\n",
       "max        89.000000\n",
       "Name: Age, dtype: float64"
      ]
     },
     "execution_count": 9,
     "metadata": {},
     "output_type": "execute_result"
    }
   ],
   "source": [
    "df['Age'].describe()"
   ]
  },
  {
   "cell_type": "code",
   "execution_count": 10,
   "id": "8d85cad9-f2d9-404a-91e7-773d9bb145a7",
   "metadata": {},
   "outputs": [
    {
     "data": {
      "text/plain": [
       "count     7990\n",
       "unique       2\n",
       "top        Yes\n",
       "freq      4968\n",
       "Name: Graduated, dtype: object"
      ]
     },
     "execution_count": 10,
     "metadata": {},
     "output_type": "execute_result"
    }
   ],
   "source": [
    "df['Graduated'].describe()"
   ]
  },
  {
   "cell_type": "code",
   "execution_count": 11,
   "id": "751f494d-f629-4afc-818e-e7627ccf6f59",
   "metadata": {},
   "outputs": [
    {
     "data": {
      "text/plain": [
       "count       7944\n",
       "unique         9\n",
       "top       Artist\n",
       "freq        2516\n",
       "Name: Profession, dtype: object"
      ]
     },
     "execution_count": 11,
     "metadata": {},
     "output_type": "execute_result"
    }
   ],
   "source": [
    "df['Profession'].describe()"
   ]
  },
  {
   "cell_type": "code",
   "execution_count": 12,
   "id": "1372f535-749b-4941-9586-e1c9c6b59533",
   "metadata": {},
   "outputs": [
    {
     "data": {
      "text/plain": [
       "count    7239.000000\n",
       "mean        2.641663\n",
       "std         3.406763\n",
       "min         0.000000\n",
       "25%         0.000000\n",
       "50%         1.000000\n",
       "75%         4.000000\n",
       "max        14.000000\n",
       "Name: Work_Experience, dtype: float64"
      ]
     },
     "execution_count": 12,
     "metadata": {},
     "output_type": "execute_result"
    }
   ],
   "source": [
    "df['Work_Experience'].describe()"
   ]
  },
  {
   "cell_type": "code",
   "execution_count": 13,
   "id": "55368f8d-31f3-47ee-b8f5-1324b678a7e5",
   "metadata": {},
   "outputs": [
    {
     "data": {
      "text/plain": [
       "count     8068\n",
       "unique       3\n",
       "top        Low\n",
       "freq      4878\n",
       "Name: Spending_Score, dtype: object"
      ]
     },
     "execution_count": 13,
     "metadata": {},
     "output_type": "execute_result"
    }
   ],
   "source": [
    "df['Spending_Score'].describe()"
   ]
  },
  {
   "cell_type": "code",
   "execution_count": 14,
   "id": "4c4fe68d-e434-40fe-be03-e67ee0173a96",
   "metadata": {},
   "outputs": [
    {
     "data": {
      "text/plain": [
       "count    7733.000000\n",
       "mean        2.850123\n",
       "std         1.531413\n",
       "min         1.000000\n",
       "25%         2.000000\n",
       "50%         3.000000\n",
       "75%         4.000000\n",
       "max         9.000000\n",
       "Name: Family_Size, dtype: float64"
      ]
     },
     "execution_count": 14,
     "metadata": {},
     "output_type": "execute_result"
    }
   ],
   "source": [
    "df['Family_Size'].describe()"
   ]
  },
  {
   "cell_type": "code",
   "execution_count": 15,
   "id": "7d875843-1028-4781-b619-8405cd541e4f",
   "metadata": {},
   "outputs": [
    {
     "data": {
      "text/plain": [
       "count      7992\n",
       "unique        7\n",
       "top       Cat_6\n",
       "freq       5238\n",
       "Name: Var_1, dtype: object"
      ]
     },
     "execution_count": 15,
     "metadata": {},
     "output_type": "execute_result"
    }
   ],
   "source": [
    "df['Var_1'].describe()"
   ]
  },
  {
   "cell_type": "code",
   "execution_count": 16,
   "id": "e7593e06-4162-4730-b6cf-ce9f5440ecd7",
   "metadata": {},
   "outputs": [
    {
     "data": {
      "text/plain": [
       "count     8068\n",
       "unique       4\n",
       "top          D\n",
       "freq      2268\n",
       "Name: Segmentation, dtype: object"
      ]
     },
     "execution_count": 16,
     "metadata": {},
     "output_type": "execute_result"
    }
   ],
   "source": [
    "df['Segmentation'].describe()"
   ]
  },
  {
   "cell_type": "markdown",
   "id": "525cafcc-bdd4-4fa5-ae96-c63ff57574be",
   "metadata": {},
   "source": [
    "## 1.3 TARGET VARIABLE"
   ]
  },
  {
   "cell_type": "markdown",
   "id": "ea6d146c-9126-4a67-9d48-15f2eb2b91f4",
   "metadata": {},
   "source": [
    "The 'segmentation' column represents the diverse customer segments we're analyzing. This quick overview reveals the distribution of customers across different segments.\n",
    "\n",
    "Understanding this balance is vital for building the models accurately to predict and cater to the preferences of each segment, ultimately enhancing our customer segmentation strategy.\n"
   ]
  },
  {
   "cell_type": "code",
   "execution_count": 17,
   "id": "99a8ff43-9173-4fe1-9ada-0a01748ed754",
   "metadata": {},
   "outputs": [
    {
     "data": {
      "text/plain": [
       "<Axes: xlabel='Segmentation', ylabel='count'>"
      ]
     },
     "execution_count": 17,
     "metadata": {},
     "output_type": "execute_result"
    },
    {
     "data": {
      "image/png": "[encoded data removed]",
      "text/plain": [
       "<Figure size 640x480 with 1 Axes>"
      ]
     },
     "metadata": {},
     "output_type": "display_data"
    }
   ],
   "source": [
    "plt.xticks(rotation = 90)\n",
    "\n",
    "plt.suptitle(\"DISTRIBUTION OF VARIABLES IN THE TARGET VARIABLE COLUMN\", size = 16, y = 0.96);\n",
    "\n",
    "sns.countplot(x = \"Segmentation\", data = df, hue = \"Segmentation\")"
   ]
  },
  {
   "cell_type": "markdown",
   "id": "1acec3d7-44cd-4bc3-a07b-54a3fc67319b",
   "metadata": {},
   "source": [
    "In the target variable column, the cutomers that are segmented into the D category, are the highest buyers of the product. Hence, we can deduce that they have a high potential of being the target customer in the new market."
   ]
  },
  {
   "cell_type": "markdown",
   "id": "c556962a-d5d4-4a7b-8a23-d5c2bc64d9ed",
   "metadata": {},
   "source": [
    "## 1.4 PREDICTOR VARIABLE"
   ]
  },
  {
   "cell_type": "markdown",
   "id": "0b0b762e-6006-42ea-a0c2-13557119bea9",
   "metadata": {},
   "source": [
    "The distribution of predictor variables involves exploring the characteristics of features used to predict customer segments.\n",
    "Analyzing these distributions helps us understand feature patterns, detect anomalies, and make informed decisions about feature engineering.\n",
    "It also guides model selection and preprocessing steps, ensuring the effectiveness of our customer segmentation approach."
   ]
  },
  {
   "cell_type": "code",
   "execution_count": 18,
   "id": "bfb1fd12-d46b-4d75-8c3a-17a77b72e212",
   "metadata": {},
   "outputs": [
    {
     "data": {
      "text/plain": [
       "[Text(0.5, 1.0, 'Var_1'), Text(0.5, 0, 'Count')]"
      ]
     },
     "execution_count": 18,
     "metadata": {},
     "output_type": "execute_result"
    },
    {
     "data": {
      "image/png": "[encoded data removed]",
      "text/plain": [
       "<Figure size 1200x1000 with 9 Axes>"
      ]
     },
     "metadata": {},
     "output_type": "display_data"
    }
   ],
   "source": [
    "fig, ax = plt.subplots(3,3, figsize = (12, 10))\n",
    "\n",
    "fig.subplots_adjust(hspace = 0.5, wspace=0.8)\n",
    "\n",
    "plt.xticks()\n",
    "plt.suptitle(\"DISTRIBUTION OF PREDICTORS IN THE DATASET\", size = 16, y = 0.94);\n",
    "plt.xticks()\n",
    "\n",
    "sns.countplot(x = df [\"Gender\"], ax = ax[0][0]).set(title = \"Gender\", xlabel = \"Count\")\n",
    "sns.countplot(x = df [\"Ever_Married\"], ax = ax[0][1]).set(title = \"Ever_Married\", xlabel = \"Count\")\n",
    "sns.distplot(x = df [\"Age\"], ax = ax[0][2]).set(title = \"Age\", xlabel = \"Count\")\n",
    "sns.countplot(x = df [\"Graduated\"], ax = ax[1][0]).set(title = \"Graduated\", xlabel = \"Count\")\n",
    "sns.countplot(x = df [\"Spending_Score\"], ax = ax[1][1]).set(title = \"Spending_Score\", xlabel = \"Count\")\n",
    "ax[1][2].set_xticklabels(df['Profession'], rotation=90)\n",
    "sns.countplot(x =\"Profession\", data = df, ax = ax[1][2]).set(title = \"Profession\")\n",
    "sns.distplot(x = df [\"Work_Experience\"], ax = ax[2][0]).set(title = \"Work_Experience\", xlabel = \"Count\")\n",
    "sns.countplot(x = df [\"Family_Size\"], ax = ax[2][1]).set(title = \"Family_Size\", xlabel = \"Count\")\n",
    "ax[2][2].set_xticklabels(df [\"Var_1\"], rotation=90)\n",
    "sns.countplot(x = df [\"Var_1\"], ax = ax[2][2], capsize=1).set(title = \"Var_1\", xlabel = \"Count\")\n"
   ]
  },
  {
   "cell_type": "markdown",
   "id": "5d58d694-7d84-4e7d-a4a3-def39741a667",
   "metadata": {},
   "source": [
    "The insights gained from analyzing the distribution of the predictor variables (Gender, Ever Married, Age, Graduated, Spending Score, Profession, Work Experience, Family size, Var 1) are as follows: \n",
    "\n",
    "Gender: Insight: The dataset exhibits a distribution of gender, with an approximately higher number of male entries than female entries.\n",
    "\n",
    "Ever Married: Insight: A higher portion of the dataset comprises individuals who are married, suggesting high potential opportunities for targeting couples or families. Unmarried individuals also form a lower substantial portion, indicating the lower potential for targeting the unmarried or singles market.\n",
    "\n",
    "Age: Insight: The distribution of age shows a peak in the (25 - 50) age range, indicating a concentration of individuals in their prime working and spending years.\n",
    "\n",
    "Graduated: Insight: A considerable number of individuals in the dataset have graduated, indicating a well-educated population. This educated segment may respond positively to the marketing approach that leverages their educational background\n",
    "\n",
    "Spending Score: Insight: Spending scores exhibit a varied distribution, with a notable cluster of individuals with moderate spending scores.\n",
    "\n",
    "Profession: Insight: The dataset represents a diverse range of professions, with high concentrations in areas such as Entertainment, healthcare, and law. Understanding the dominant professions would help to customize offerings or career-related services to cater to the prevalent professional backgrounds.\r\n",
    "\n",
    "Work Experience: Insight: Work experience distribution indicates a mix of individuals with a higher concentration of 0 to 2 years of work experience\n",
    "\n",
    "\r\n",
    "Var 1: Insight:This variable appears to be an anonymized or encoded categorical variable in the dataset. An anonymized category implies that the actual labels or meanings of the categories have been intentionally obfuscated to protect privacy, and proprietary information, or comply with data anonymization standards.\n",
    "\n",
    "The  distribution highligheds the prevalence ofthe segmentedc categorical vriables. The ddominant categoy appears to be category D  informs subsequent analyses and decision-making processes.\r\n",
    "\n",
    "\r\n",
    "\n"
   ]
  },
  {
   "cell_type": "markdown",
   "id": "72cda2b8-35ce-4fe8-8fd0-fed1b649f1bb",
   "metadata": {},
   "source": [
    "## 1.5 RELATIONSHIP BETWEEN PREDICTORS AND THE TARGET VARIABLE"
   ]
  },
  {
   "cell_type": "markdown",
   "id": "4312d3b7-e6a9-49eb-b57e-3de7288b1263",
   "metadata": {},
   "source": [
    "In our quest to understand the interplay between the predictor \"age\" and the guiding star \"segmentation,\" we turn to the enlightening barplot. \n",
    "\n",
    "Customers within the age bracket of 33, years dominate Segment D, while Customers within the age bracket of 45 years dominate Segment A, Customers within the age bracket of 47 years dominate Segment B, and Customers within the age bracket of 48 years dominate Segment C."
   ]
  },
  {
   "cell_type": "code",
   "execution_count": 19,
   "id": "1c9574f1-a5d1-42db-875d-cd3d9fd4c719",
   "metadata": {},
   "outputs": [
    {
     "data": {
      "text/plain": [
       "Text(0.5, 1.0, 'AGE WITH SEGMENTATION')"
      ]
     },
     "execution_count": 19,
     "metadata": {},
     "output_type": "execute_result"
    },
    {
     "data": {
      "image/png": "[encoded data removed]",
      "text/plain": [
       "<Figure size 640x480 with 1 Axes>"
      ]
     },
     "metadata": {},
     "output_type": "display_data"
    }
   ],
   "source": [
    "#plt.xticks(rotation = 90)\n",
    "\n",
    "#plt.suptitle(\"AGE WITH SEGMENTATION\", size = 16, y = 0.99);\n",
    "\n",
    "sns.barplot(x='Segmentation', y='Age', data=df, hue = \"Segmentation\")\n",
    "plt.title(\"AGE WITH SEGMENTATION\")\n",
    "\n",
    "#sns.scatterplot(x = df [\"Segmentation\"], y = df [\"Age\"])\n",
    "\n"
   ]
  },
  {
   "cell_type": "code",
   "execution_count": 20,
   "id": "7b1f96cb-afcc-4e06-9355-5c8f998a0126",
   "metadata": {},
   "outputs": [
    {
     "data": {
      "text/plain": [
       "Text(0.5, 1.0, 'WORK_EXPERIENCE WITH SEGMENTATION')"
      ]
     },
     "execution_count": 20,
     "metadata": {},
     "output_type": "execute_result"
    },
    {
     "data": {
      "image/png": "[encoded data removed]",
      "text/plain": [
       "<Figure size 640x480 with 1 Axes>"
      ]
     },
     "metadata": {},
     "output_type": "display_data"
    }
   ],
   "source": [
    "sns.barplot(x='Segmentation', y=\"Work_Experience\", data=df, hue = \"Segmentation\", legend='auto')\n",
    "plt.title(\"WORK_EXPERIENCE WITH SEGMENTATION\")"
   ]
  },
  {
   "cell_type": "markdown",
   "id": "cbc55371-079a-4034-9e2e-74370941c100",
   "metadata": {},
   "source": [
    "This barplot not only showcases work experience categories but also unveils the dominance or prevalence of specific work experience levels within each segment."
   ]
  },
  {
   "cell_type": "code",
   "execution_count": 21,
   "id": "b6161b48-8e3a-434d-ac3d-b23561da2deb",
   "metadata": {},
   "outputs": [
    {
     "data": {
      "text/plain": [
       "Text(0.5, 1.0, 'SEGMENTATION WITH PROFESSION')"
      ]
     },
     "execution_count": 21,
     "metadata": {},
     "output_type": "execute_result"
    },
    {
     "data": {
      "image/png": "[encoded data removed]",
      "text/plain": [
       "<Figure size 640x480 with 1 Axes>"
      ]
     },
     "metadata": {},
     "output_type": "display_data"
    }
   ],
   "source": [
    "sns.countplot(x='Segmentation', data=df, hue = \"Profession\")\n",
    "plt.title(\"SEGMENTATION WITH PROFESSION\")\n"
   ]
  },
  {
   "cell_type": "markdown",
   "id": "8d8048fd-c54d-4216-b055-a2d5774b14d5",
   "metadata": {},
   "source": [
    "Beyond numerical counts, this barplot unravels which professions play a dominant role within each segment.\n",
    "The distribution of professions within each segment uncovers segment-specific professional preferences.\n"
   ]
  },
  {
   "cell_type": "markdown",
   "id": "dc10aa00-a914-4a64-b15a-7590c17f0079",
   "metadata": {},
   "source": [
    "<div style=\"text-align: Left; padding: 10px; background-color:#3811c7; color:#ffffff; font-size: 26px; box-shadow: 0px 4px 8px rgba(0, 0, 0, 0.1);\">3.0 DATA PREPROCESSING</div>\n",
    "\n"
   ]
  },
  {
   "cell_type": "markdown",
   "id": "0cb57b47-4e87-40f9-a456-5eeaf8704fb2",
   "metadata": {},
   "source": [
    "In the realm of data preprocessing, where raw data transforms into the refined clay for predictive sculpting, we embark on a meticulous journey. This section lays the groundwork for the Customer Segmentation Prediction System, ensuring the data is primed for modeling. "
   ]
  },
  {
   "cell_type": "markdown",
   "id": "412f383a-a3bc-43f0-8337-4cfc719dd1ab",
   "metadata": {},
   "source": [
    "In our journey to prepare data for prediction magic, the .info() method acts like a magical crystal ball, showing us key details about our dataset"
   ]
  },
  {
   "cell_type": "code",
   "execution_count": 22,
   "id": "0759f4d9-e4c5-4f68-b5ba-56e03946c425",
   "metadata": {},
   "outputs": [
    {
     "name": "stdout",
     "output_type": "stream",
     "text": [
      "<class 'pandas.core.frame.DataFrame'>\n",
      "RangeIndex: 8068 entries, 0 to 8067\n",
      "Data columns (total 10 columns):\n",
      " #   Column           Non-Null Count  Dtype  \n",
      "---  ------           --------------  -----  \n",
      " 0   Gender           8068 non-null   object \n",
      " 1   Ever_Married     7928 non-null   object \n",
      " 2   Age              8068 non-null   int64  \n",
      " 3   Graduated        7990 non-null   object \n",
      " 4   Profession       7944 non-null   object \n",
      " 5   Work_Experience  7239 non-null   float64\n",
      " 6   Spending_Score   8068 non-null   object \n",
      " 7   Family_Size      7733 non-null   float64\n",
      " 8   Var_1            7992 non-null   object \n",
      " 9   Segmentation     8068 non-null   object \n",
      "dtypes: float64(2), int64(1), object(7)\n",
      "memory usage: 630.4+ KB\n"
     ]
    }
   ],
   "source": [
    "df.info()"
   ]
  },
  {
   "cell_type": "code",
   "execution_count": 23,
   "id": "3426a5d0-b464-40c2-a15b-8da5ccb3a013",
   "metadata": {},
   "outputs": [],
   "source": [
    "df[\"Ever_Married\"] = df[\"Ever_Married\"].fillna(df[\"Ever_Married\"].mode()[0])\n",
    "df[\"Graduated\"] = df[\"Graduated\"].fillna(df[\"Graduated\"].mode()[0])\n",
    "df[\"Profession\"] = df[\"Profession\"].fillna(df[\"Profession\"].mode()[0])\n",
    "df[\"Work_Experience\"] = df[\"Work_Experience\"].fillna(df[\"Work_Experience\"].mode()[0])\n",
    "df[\"Var_1\"] = df[\"Var_1\"].fillna(df[\"Var_1\"].mode()[0])\n",
    "df[\"Family_Size\"] = df[\"Family_Size\"].fillna(df[\"Family_Size\"].mode()[0])"
   ]
  },
  {
   "cell_type": "code",
   "execution_count": 24,
   "id": "91c88da5-246b-48bd-8d2f-b7db9da7eba1",
   "metadata": {},
   "outputs": [
    {
     "name": "stdout",
     "output_type": "stream",
     "text": [
      "<class 'pandas.core.frame.DataFrame'>\n",
      "RangeIndex: 8068 entries, 0 to 8067\n",
      "Data columns (total 10 columns):\n",
      " #   Column           Non-Null Count  Dtype  \n",
      "---  ------           --------------  -----  \n",
      " 0   Gender           8068 non-null   object \n",
      " 1   Ever_Married     8068 non-null   object \n",
      " 2   Age              8068 non-null   int64  \n",
      " 3   Graduated        8068 non-null   object \n",
      " 4   Profession       8068 non-null   object \n",
      " 5   Work_Experience  8068 non-null   float64\n",
      " 6   Spending_Score   8068 non-null   object \n",
      " 7   Family_Size      8068 non-null   float64\n",
      " 8   Var_1            8068 non-null   object \n",
      " 9   Segmentation     8068 non-null   object \n",
      "dtypes: float64(2), int64(1), object(7)\n",
      "memory usage: 630.4+ KB\n"
     ]
    }
   ],
   "source": [
    "df.info()"
   ]
  },
  {
   "cell_type": "code",
   "execution_count": 25,
   "id": "dc57dfc8-736e-4193-8405-22b5ed7f6bee",
   "metadata": {},
   "outputs": [
    {
     "data": {
      "text/html": [
       "<div>\n",
       "<style scoped>\n",
       "    .dataframe tbody tr th:only-of-type {\n",
       "        vertical-align: middle;\n",
       "    }\n",
       "\n",
       "    .dataframe tbody tr th {\n",
       "        vertical-align: top;\n",
       "    }\n",
       "\n",
       "    .dataframe thead th {\n",
       "        text-align: right;\n",
       "    }\n",
       "</style>\n",
       "<table border=\"1\" class=\"dataframe\">\n",
       "  <thead>\n",
       "    <tr style=\"text-align: right;\">\n",
       "      <th></th>\n",
       "      <th>Gender</th>\n",
       "      <th>Ever_Married</th>\n",
       "      <th>Age</th>\n",
       "      <th>Graduated</th>\n",
       "      <th>Profession</th>\n",
       "      <th>Work_Experience</th>\n",
       "      <th>Spending_Score</th>\n",
       "      <th>Family_Size</th>\n",
       "      <th>Var_1</th>\n",
       "      <th>Segmentation</th>\n",
       "    </tr>\n",
       "  </thead>\n",
       "  <tbody>\n",
       "    <tr>\n",
       "      <th>0</th>\n",
       "      <td>Male</td>\n",
       "      <td>No</td>\n",
       "      <td>22</td>\n",
       "      <td>No</td>\n",
       "      <td>Healthcare</td>\n",
       "      <td>1.0</td>\n",
       "      <td>Low</td>\n",
       "      <td>4.0</td>\n",
       "      <td>Cat_4</td>\n",
       "      <td>D</td>\n",
       "    </tr>\n",
       "    <tr>\n",
       "      <th>1</th>\n",
       "      <td>Female</td>\n",
       "      <td>Yes</td>\n",
       "      <td>38</td>\n",
       "      <td>Yes</td>\n",
       "      <td>Engineer</td>\n",
       "      <td>1.0</td>\n",
       "      <td>Average</td>\n",
       "      <td>3.0</td>\n",
       "      <td>Cat_4</td>\n",
       "      <td>A</td>\n",
       "    </tr>\n",
       "    <tr>\n",
       "      <th>2</th>\n",
       "      <td>Female</td>\n",
       "      <td>Yes</td>\n",
       "      <td>67</td>\n",
       "      <td>Yes</td>\n",
       "      <td>Engineer</td>\n",
       "      <td>1.0</td>\n",
       "      <td>Low</td>\n",
       "      <td>1.0</td>\n",
       "      <td>Cat_6</td>\n",
       "      <td>B</td>\n",
       "    </tr>\n",
       "    <tr>\n",
       "      <th>3</th>\n",
       "      <td>Male</td>\n",
       "      <td>Yes</td>\n",
       "      <td>67</td>\n",
       "      <td>Yes</td>\n",
       "      <td>Lawyer</td>\n",
       "      <td>0.0</td>\n",
       "      <td>High</td>\n",
       "      <td>2.0</td>\n",
       "      <td>Cat_6</td>\n",
       "      <td>B</td>\n",
       "    </tr>\n",
       "    <tr>\n",
       "      <th>4</th>\n",
       "      <td>Female</td>\n",
       "      <td>Yes</td>\n",
       "      <td>40</td>\n",
       "      <td>Yes</td>\n",
       "      <td>Entertainment</td>\n",
       "      <td>1.0</td>\n",
       "      <td>High</td>\n",
       "      <td>6.0</td>\n",
       "      <td>Cat_6</td>\n",
       "      <td>A</td>\n",
       "    </tr>\n",
       "    <tr>\n",
       "      <th>...</th>\n",
       "      <td>...</td>\n",
       "      <td>...</td>\n",
       "      <td>...</td>\n",
       "      <td>...</td>\n",
       "      <td>...</td>\n",
       "      <td>...</td>\n",
       "      <td>...</td>\n",
       "      <td>...</td>\n",
       "      <td>...</td>\n",
       "      <td>...</td>\n",
       "    </tr>\n",
       "    <tr>\n",
       "      <th>8063</th>\n",
       "      <td>Male</td>\n",
       "      <td>No</td>\n",
       "      <td>22</td>\n",
       "      <td>No</td>\n",
       "      <td>Artist</td>\n",
       "      <td>0.0</td>\n",
       "      <td>Low</td>\n",
       "      <td>7.0</td>\n",
       "      <td>Cat_1</td>\n",
       "      <td>D</td>\n",
       "    </tr>\n",
       "    <tr>\n",
       "      <th>8064</th>\n",
       "      <td>Male</td>\n",
       "      <td>No</td>\n",
       "      <td>35</td>\n",
       "      <td>No</td>\n",
       "      <td>Executive</td>\n",
       "      <td>3.0</td>\n",
       "      <td>Low</td>\n",
       "      <td>4.0</td>\n",
       "      <td>Cat_4</td>\n",
       "      <td>D</td>\n",
       "    </tr>\n",
       "    <tr>\n",
       "      <th>8065</th>\n",
       "      <td>Female</td>\n",
       "      <td>No</td>\n",
       "      <td>33</td>\n",
       "      <td>Yes</td>\n",
       "      <td>Healthcare</td>\n",
       "      <td>1.0</td>\n",
       "      <td>Low</td>\n",
       "      <td>1.0</td>\n",
       "      <td>Cat_6</td>\n",
       "      <td>D</td>\n",
       "    </tr>\n",
       "    <tr>\n",
       "      <th>8066</th>\n",
       "      <td>Female</td>\n",
       "      <td>No</td>\n",
       "      <td>27</td>\n",
       "      <td>Yes</td>\n",
       "      <td>Healthcare</td>\n",
       "      <td>1.0</td>\n",
       "      <td>Low</td>\n",
       "      <td>4.0</td>\n",
       "      <td>Cat_6</td>\n",
       "      <td>B</td>\n",
       "    </tr>\n",
       "    <tr>\n",
       "      <th>8067</th>\n",
       "      <td>Male</td>\n",
       "      <td>Yes</td>\n",
       "      <td>37</td>\n",
       "      <td>Yes</td>\n",
       "      <td>Executive</td>\n",
       "      <td>0.0</td>\n",
       "      <td>Average</td>\n",
       "      <td>3.0</td>\n",
       "      <td>Cat_4</td>\n",
       "      <td>B</td>\n",
       "    </tr>\n",
       "  </tbody>\n",
       "</table>\n",
       "<p>8068 rows × 10 columns</p>\n",
       "</div>"
      ],
      "text/plain": [
       "      Gender Ever_Married  Age Graduated     Profession  Work_Experience  \\\n",
       "0       Male           No   22        No     Healthcare              1.0   \n",
       "1     Female          Yes   38       Yes       Engineer              1.0   \n",
       "2     Female          Yes   67       Yes       Engineer              1.0   \n",
       "3       Male          Yes   67       Yes         Lawyer              0.0   \n",
       "4     Female          Yes   40       Yes  Entertainment              1.0   \n",
       "...      ...          ...  ...       ...            ...              ...   \n",
       "8063    Male           No   22        No         Artist              0.0   \n",
       "8064    Male           No   35        No      Executive              3.0   \n",
       "8065  Female           No   33       Yes     Healthcare              1.0   \n",
       "8066  Female           No   27       Yes     Healthcare              1.0   \n",
       "8067    Male          Yes   37       Yes      Executive              0.0   \n",
       "\n",
       "     Spending_Score  Family_Size  Var_1 Segmentation  \n",
       "0               Low          4.0  Cat_4            D  \n",
       "1           Average          3.0  Cat_4            A  \n",
       "2               Low          1.0  Cat_6            B  \n",
       "3              High          2.0  Cat_6            B  \n",
       "4              High          6.0  Cat_6            A  \n",
       "...             ...          ...    ...          ...  \n",
       "8063            Low          7.0  Cat_1            D  \n",
       "8064            Low          4.0  Cat_4            D  \n",
       "8065            Low          1.0  Cat_6            D  \n",
       "8066            Low          4.0  Cat_6            B  \n",
       "8067        Average          3.0  Cat_4            B  \n",
       "\n",
       "[8068 rows x 10 columns]"
      ]
     },
     "execution_count": 25,
     "metadata": {},
     "output_type": "execute_result"
    }
   ],
   "source": [
    "df"
   ]
  },
  {
   "cell_type": "markdown",
   "id": "6c9b0c91-6da3-452a-9f3a-fbaaf157a2c6",
   "metadata": {},
   "source": [
    "Within the canvas of our Customer Segmentation Project, One-Hot Encoding and Label Encoding emerge as crafting tools, sculpting our categorical data into a format that resonates with the predictive intricacies of our segmentation models. The strategic application of these techniques ensures a seamless transition from raw data to a structured foundation for effective model training."
   ]
  },
  {
   "cell_type": "code",
   "execution_count": 26,
   "id": "36031445-8a48-4788-ad5f-84379832ce25",
   "metadata": {},
   "outputs": [
    {
     "name": "stdout",
     "output_type": "stream",
     "text": [
      "OneHotEncoder(handle_unknown='ignore', sparse_output=False)\n"
     ]
    }
   ],
   "source": [
    "Encode_me = OneHotEncoder(handle_unknown='ignore', sparse_output=False)\n",
    "print(Encode_me)"
   ]
  },
  {
   "cell_type": "code",
   "execution_count": 27,
   "id": "b0974a39-116d-465b-b0d6-ad7c2fc5362e",
   "metadata": {},
   "outputs": [],
   "source": [
    "Seg = Encode_me.fit_transform(df[[\"Gender\", \"Ever_Married\", \"Graduated\", \"Profession\", \"Spending_Score\", \"Var_1\",\"Work_Experience\", \"Family_Size\"]])"
   ]
  },
  {
   "cell_type": "code",
   "execution_count": 28,
   "id": "021189a9-1ad0-4b86-b309-2f71290c34b0",
   "metadata": {},
   "outputs": [
    {
     "name": "stdout",
     "output_type": "stream",
     "text": [
      "[[0. 1. 1. ... 0. 0. 0.]\n",
      " [1. 0. 0. ... 0. 0. 0.]\n",
      " [1. 0. 0. ... 0. 0. 0.]\n",
      " ...\n",
      " [1. 0. 1. ... 0. 0. 0.]\n",
      " [1. 0. 1. ... 0. 0. 0.]\n",
      " [0. 1. 0. ... 0. 0. 0.]]\n"
     ]
    }
   ],
   "source": [
    "print(Seg)"
   ]
  },
  {
   "cell_type": "code",
   "execution_count": 29,
   "id": "29c4b45e-8669-418b-a1a3-ade7017e0647",
   "metadata": {},
   "outputs": [],
   "source": [
    "feature_names = Encode_me.get_feature_names_out([\"Gender\", \"Ever_Married\", \"Graduated\", \"Profession\", \"Spending_Score\", \"Var_1\", \"Work_Experience\",\"Family_Size\"])"
   ]
  },
  {
   "cell_type": "code",
   "execution_count": 30,
   "id": "694c40d0-518b-4d70-ba98-78ccb88bca67",
   "metadata": {},
   "outputs": [],
   "source": [
    "onehot_df = pd.DataFrame(Seg, columns = feature_names)"
   ]
  },
  {
   "cell_type": "code",
   "execution_count": 31,
   "id": "d2eb5503-1bf4-4a04-9858-f8ca5f70431c",
   "metadata": {},
   "outputs": [],
   "source": [
    "\n",
    "df = pd.concat([df, onehot_df], axis = 1).drop(columns = [\"Gender\", \"Ever_Married\", \"Graduated\", \"Profession\", \"Spending_Score\", \"Var_1\", \"Work_Experience\",\"Family_Size\"])"
   ]
  },
  {
   "cell_type": "code",
   "execution_count": 32,
   "id": "81ba582b-b647-4e9a-b2ba-32490ffa8e11",
   "metadata": {},
   "outputs": [
    {
     "data": {
      "text/html": [
       "<div>\n",
       "<style scoped>\n",
       "    .dataframe tbody tr th:only-of-type {\n",
       "        vertical-align: middle;\n",
       "    }\n",
       "\n",
       "    .dataframe tbody tr th {\n",
       "        vertical-align: top;\n",
       "    }\n",
       "\n",
       "    .dataframe thead th {\n",
       "        text-align: right;\n",
       "    }\n",
       "</style>\n",
       "<table border=\"1\" class=\"dataframe\">\n",
       "  <thead>\n",
       "    <tr style=\"text-align: right;\">\n",
       "      <th></th>\n",
       "      <th>Age</th>\n",
       "      <th>Segmentation</th>\n",
       "      <th>Gender_Female</th>\n",
       "      <th>Gender_Male</th>\n",
       "      <th>Ever_Married_No</th>\n",
       "      <th>Ever_Married_Yes</th>\n",
       "      <th>Graduated_No</th>\n",
       "      <th>Graduated_Yes</th>\n",
       "      <th>Profession_Artist</th>\n",
       "      <th>Profession_Doctor</th>\n",
       "      <th>...</th>\n",
       "      <th>Work_Experience_14.0</th>\n",
       "      <th>Family_Size_1.0</th>\n",
       "      <th>Family_Size_2.0</th>\n",
       "      <th>Family_Size_3.0</th>\n",
       "      <th>Family_Size_4.0</th>\n",
       "      <th>Family_Size_5.0</th>\n",
       "      <th>Family_Size_6.0</th>\n",
       "      <th>Family_Size_7.0</th>\n",
       "      <th>Family_Size_8.0</th>\n",
       "      <th>Family_Size_9.0</th>\n",
       "    </tr>\n",
       "  </thead>\n",
       "  <tbody>\n",
       "    <tr>\n",
       "      <th>0</th>\n",
       "      <td>22</td>\n",
       "      <td>D</td>\n",
       "      <td>0.0</td>\n",
       "      <td>1.0</td>\n",
       "      <td>1.0</td>\n",
       "      <td>0.0</td>\n",
       "      <td>1.0</td>\n",
       "      <td>0.0</td>\n",
       "      <td>0.0</td>\n",
       "      <td>0.0</td>\n",
       "      <td>...</td>\n",
       "      <td>0.0</td>\n",
       "      <td>0.0</td>\n",
       "      <td>0.0</td>\n",
       "      <td>0.0</td>\n",
       "      <td>1.0</td>\n",
       "      <td>0.0</td>\n",
       "      <td>0.0</td>\n",
       "      <td>0.0</td>\n",
       "      <td>0.0</td>\n",
       "      <td>0.0</td>\n",
       "    </tr>\n",
       "    <tr>\n",
       "      <th>1</th>\n",
       "      <td>38</td>\n",
       "      <td>A</td>\n",
       "      <td>1.0</td>\n",
       "      <td>0.0</td>\n",
       "      <td>0.0</td>\n",
       "      <td>1.0</td>\n",
       "      <td>0.0</td>\n",
       "      <td>1.0</td>\n",
       "      <td>0.0</td>\n",
       "      <td>0.0</td>\n",
       "      <td>...</td>\n",
       "      <td>0.0</td>\n",
       "      <td>0.0</td>\n",
       "      <td>0.0</td>\n",
       "      <td>1.0</td>\n",
       "      <td>0.0</td>\n",
       "      <td>0.0</td>\n",
       "      <td>0.0</td>\n",
       "      <td>0.0</td>\n",
       "      <td>0.0</td>\n",
       "      <td>0.0</td>\n",
       "    </tr>\n",
       "    <tr>\n",
       "      <th>2</th>\n",
       "      <td>67</td>\n",
       "      <td>B</td>\n",
       "      <td>1.0</td>\n",
       "      <td>0.0</td>\n",
       "      <td>0.0</td>\n",
       "      <td>1.0</td>\n",
       "      <td>0.0</td>\n",
       "      <td>1.0</td>\n",
       "      <td>0.0</td>\n",
       "      <td>0.0</td>\n",
       "      <td>...</td>\n",
       "      <td>0.0</td>\n",
       "      <td>1.0</td>\n",
       "      <td>0.0</td>\n",
       "      <td>0.0</td>\n",
       "      <td>0.0</td>\n",
       "      <td>0.0</td>\n",
       "      <td>0.0</td>\n",
       "      <td>0.0</td>\n",
       "      <td>0.0</td>\n",
       "      <td>0.0</td>\n",
       "    </tr>\n",
       "    <tr>\n",
       "      <th>3</th>\n",
       "      <td>67</td>\n",
       "      <td>B</td>\n",
       "      <td>0.0</td>\n",
       "      <td>1.0</td>\n",
       "      <td>0.0</td>\n",
       "      <td>1.0</td>\n",
       "      <td>0.0</td>\n",
       "      <td>1.0</td>\n",
       "      <td>0.0</td>\n",
       "      <td>0.0</td>\n",
       "      <td>...</td>\n",
       "      <td>0.0</td>\n",
       "      <td>0.0</td>\n",
       "      <td>1.0</td>\n",
       "      <td>0.0</td>\n",
       "      <td>0.0</td>\n",
       "      <td>0.0</td>\n",
       "      <td>0.0</td>\n",
       "      <td>0.0</td>\n",
       "      <td>0.0</td>\n",
       "      <td>0.0</td>\n",
       "    </tr>\n",
       "    <tr>\n",
       "      <th>4</th>\n",
       "      <td>40</td>\n",
       "      <td>A</td>\n",
       "      <td>1.0</td>\n",
       "      <td>0.0</td>\n",
       "      <td>0.0</td>\n",
       "      <td>1.0</td>\n",
       "      <td>0.0</td>\n",
       "      <td>1.0</td>\n",
       "      <td>0.0</td>\n",
       "      <td>0.0</td>\n",
       "      <td>...</td>\n",
       "      <td>0.0</td>\n",
       "      <td>0.0</td>\n",
       "      <td>0.0</td>\n",
       "      <td>0.0</td>\n",
       "      <td>0.0</td>\n",
       "      <td>0.0</td>\n",
       "      <td>1.0</td>\n",
       "      <td>0.0</td>\n",
       "      <td>0.0</td>\n",
       "      <td>0.0</td>\n",
       "    </tr>\n",
       "    <tr>\n",
       "      <th>5</th>\n",
       "      <td>56</td>\n",
       "      <td>C</td>\n",
       "      <td>0.0</td>\n",
       "      <td>1.0</td>\n",
       "      <td>0.0</td>\n",
       "      <td>1.0</td>\n",
       "      <td>1.0</td>\n",
       "      <td>0.0</td>\n",
       "      <td>1.0</td>\n",
       "      <td>0.0</td>\n",
       "      <td>...</td>\n",
       "      <td>0.0</td>\n",
       "      <td>0.0</td>\n",
       "      <td>1.0</td>\n",
       "      <td>0.0</td>\n",
       "      <td>0.0</td>\n",
       "      <td>0.0</td>\n",
       "      <td>0.0</td>\n",
       "      <td>0.0</td>\n",
       "      <td>0.0</td>\n",
       "      <td>0.0</td>\n",
       "    </tr>\n",
       "    <tr>\n",
       "      <th>6</th>\n",
       "      <td>32</td>\n",
       "      <td>C</td>\n",
       "      <td>0.0</td>\n",
       "      <td>1.0</td>\n",
       "      <td>1.0</td>\n",
       "      <td>0.0</td>\n",
       "      <td>0.0</td>\n",
       "      <td>1.0</td>\n",
       "      <td>0.0</td>\n",
       "      <td>0.0</td>\n",
       "      <td>...</td>\n",
       "      <td>0.0</td>\n",
       "      <td>0.0</td>\n",
       "      <td>0.0</td>\n",
       "      <td>1.0</td>\n",
       "      <td>0.0</td>\n",
       "      <td>0.0</td>\n",
       "      <td>0.0</td>\n",
       "      <td>0.0</td>\n",
       "      <td>0.0</td>\n",
       "      <td>0.0</td>\n",
       "    </tr>\n",
       "    <tr>\n",
       "      <th>7</th>\n",
       "      <td>33</td>\n",
       "      <td>D</td>\n",
       "      <td>1.0</td>\n",
       "      <td>0.0</td>\n",
       "      <td>1.0</td>\n",
       "      <td>0.0</td>\n",
       "      <td>0.0</td>\n",
       "      <td>1.0</td>\n",
       "      <td>0.0</td>\n",
       "      <td>0.0</td>\n",
       "      <td>...</td>\n",
       "      <td>0.0</td>\n",
       "      <td>0.0</td>\n",
       "      <td>0.0</td>\n",
       "      <td>1.0</td>\n",
       "      <td>0.0</td>\n",
       "      <td>0.0</td>\n",
       "      <td>0.0</td>\n",
       "      <td>0.0</td>\n",
       "      <td>0.0</td>\n",
       "      <td>0.0</td>\n",
       "    </tr>\n",
       "    <tr>\n",
       "      <th>8</th>\n",
       "      <td>61</td>\n",
       "      <td>D</td>\n",
       "      <td>1.0</td>\n",
       "      <td>0.0</td>\n",
       "      <td>0.0</td>\n",
       "      <td>1.0</td>\n",
       "      <td>0.0</td>\n",
       "      <td>1.0</td>\n",
       "      <td>0.0</td>\n",
       "      <td>0.0</td>\n",
       "      <td>...</td>\n",
       "      <td>0.0</td>\n",
       "      <td>0.0</td>\n",
       "      <td>0.0</td>\n",
       "      <td>1.0</td>\n",
       "      <td>0.0</td>\n",
       "      <td>0.0</td>\n",
       "      <td>0.0</td>\n",
       "      <td>0.0</td>\n",
       "      <td>0.0</td>\n",
       "      <td>0.0</td>\n",
       "    </tr>\n",
       "    <tr>\n",
       "      <th>9</th>\n",
       "      <td>55</td>\n",
       "      <td>C</td>\n",
       "      <td>1.0</td>\n",
       "      <td>0.0</td>\n",
       "      <td>0.0</td>\n",
       "      <td>1.0</td>\n",
       "      <td>0.0</td>\n",
       "      <td>1.0</td>\n",
       "      <td>1.0</td>\n",
       "      <td>0.0</td>\n",
       "      <td>...</td>\n",
       "      <td>0.0</td>\n",
       "      <td>0.0</td>\n",
       "      <td>0.0</td>\n",
       "      <td>0.0</td>\n",
       "      <td>1.0</td>\n",
       "      <td>0.0</td>\n",
       "      <td>0.0</td>\n",
       "      <td>0.0</td>\n",
       "      <td>0.0</td>\n",
       "      <td>0.0</td>\n",
       "    </tr>\n",
       "  </tbody>\n",
       "</table>\n",
       "<p>10 rows × 51 columns</p>\n",
       "</div>"
      ],
      "text/plain": [
       "   Age Segmentation  Gender_Female  Gender_Male  Ever_Married_No  \\\n",
       "0   22            D            0.0          1.0              1.0   \n",
       "1   38            A            1.0          0.0              0.0   \n",
       "2   67            B            1.0          0.0              0.0   \n",
       "3   67            B            0.0          1.0              0.0   \n",
       "4   40            A            1.0          0.0              0.0   \n",
       "5   56            C            0.0          1.0              0.0   \n",
       "6   32            C            0.0          1.0              1.0   \n",
       "7   33            D            1.0          0.0              1.0   \n",
       "8   61            D            1.0          0.0              0.0   \n",
       "9   55            C            1.0          0.0              0.0   \n",
       "\n",
       "   Ever_Married_Yes  Graduated_No  Graduated_Yes  Profession_Artist  \\\n",
       "0               0.0           1.0            0.0                0.0   \n",
       "1               1.0           0.0            1.0                0.0   \n",
       "2               1.0           0.0            1.0                0.0   \n",
       "3               1.0           0.0            1.0                0.0   \n",
       "4               1.0           0.0            1.0                0.0   \n",
       "5               1.0           1.0            0.0                1.0   \n",
       "6               0.0           0.0            1.0                0.0   \n",
       "7               0.0           0.0            1.0                0.0   \n",
       "8               1.0           0.0            1.0                0.0   \n",
       "9               1.0           0.0            1.0                1.0   \n",
       "\n",
       "   Profession_Doctor  ...  Work_Experience_14.0  Family_Size_1.0  \\\n",
       "0                0.0  ...                   0.0              0.0   \n",
       "1                0.0  ...                   0.0              0.0   \n",
       "2                0.0  ...                   0.0              1.0   \n",
       "3                0.0  ...                   0.0              0.0   \n",
       "4                0.0  ...                   0.0              0.0   \n",
       "5                0.0  ...                   0.0              0.0   \n",
       "6                0.0  ...                   0.0              0.0   \n",
       "7                0.0  ...                   0.0              0.0   \n",
       "8                0.0  ...                   0.0              0.0   \n",
       "9                0.0  ...                   0.0              0.0   \n",
       "\n",
       "   Family_Size_2.0  Family_Size_3.0  Family_Size_4.0  Family_Size_5.0  \\\n",
       "0              0.0              0.0              1.0              0.0   \n",
       "1              0.0              1.0              0.0              0.0   \n",
       "2              0.0              0.0              0.0              0.0   \n",
       "3              1.0              0.0              0.0              0.0   \n",
       "4              0.0              0.0              0.0              0.0   \n",
       "5              1.0              0.0              0.0              0.0   \n",
       "6              0.0              1.0              0.0              0.0   \n",
       "7              0.0              1.0              0.0              0.0   \n",
       "8              0.0              1.0              0.0              0.0   \n",
       "9              0.0              0.0              1.0              0.0   \n",
       "\n",
       "   Family_Size_6.0  Family_Size_7.0  Family_Size_8.0  Family_Size_9.0  \n",
       "0              0.0              0.0              0.0              0.0  \n",
       "1              0.0              0.0              0.0              0.0  \n",
       "2              0.0              0.0              0.0              0.0  \n",
       "3              0.0              0.0              0.0              0.0  \n",
       "4              1.0              0.0              0.0              0.0  \n",
       "5              0.0              0.0              0.0              0.0  \n",
       "6              0.0              0.0              0.0              0.0  \n",
       "7              0.0              0.0              0.0              0.0  \n",
       "8              0.0              0.0              0.0              0.0  \n",
       "9              0.0              0.0              0.0              0.0  \n",
       "\n",
       "[10 rows x 51 columns]"
      ]
     },
     "execution_count": 32,
     "metadata": {},
     "output_type": "execute_result"
    }
   ],
   "source": [
    "df.head(10)"
   ]
  },
  {
   "cell_type": "code",
   "execution_count": 33,
   "id": "133359ce-5b8c-4042-bee0-c2cfeed34ab6",
   "metadata": {},
   "outputs": [],
   "source": [
    "Encoder = LabelEncoder()"
   ]
  },
  {
   "cell_type": "code",
   "execution_count": 34,
   "id": "4e62f278-4688-405a-b377-9bca5435fbb5",
   "metadata": {},
   "outputs": [],
   "source": [
    "df[\"Segmentation\"] = Encoder.fit_transform(df[\"Segmentation\"])"
   ]
  },
  {
   "cell_type": "code",
   "execution_count": 35,
   "id": "f87e3e7c-5270-4181-ac29-3979194fae92",
   "metadata": {},
   "outputs": [
    {
     "name": "stdout",
     "output_type": "stream",
     "text": [
      "<class 'pandas.core.frame.DataFrame'>\n",
      "RangeIndex: 8068 entries, 0 to 8067\n",
      "Data columns (total 51 columns):\n",
      " #   Column                    Non-Null Count  Dtype  \n",
      "---  ------                    --------------  -----  \n",
      " 0   Age                       8068 non-null   int64  \n",
      " 1   Segmentation              8068 non-null   int32  \n",
      " 2   Gender_Female             8068 non-null   float64\n",
      " 3   Gender_Male               8068 non-null   float64\n",
      " 4   Ever_Married_No           8068 non-null   float64\n",
      " 5   Ever_Married_Yes          8068 non-null   float64\n",
      " 6   Graduated_No              8068 non-null   float64\n",
      " 7   Graduated_Yes             8068 non-null   float64\n",
      " 8   Profession_Artist         8068 non-null   float64\n",
      " 9   Profession_Doctor         8068 non-null   float64\n",
      " 10  Profession_Engineer       8068 non-null   float64\n",
      " 11  Profession_Entertainment  8068 non-null   float64\n",
      " 12  Profession_Executive      8068 non-null   float64\n",
      " 13  Profession_Healthcare     8068 non-null   float64\n",
      " 14  Profession_Homemaker      8068 non-null   float64\n",
      " 15  Profession_Lawyer         8068 non-null   float64\n",
      " 16  Profession_Marketing      8068 non-null   float64\n",
      " 17  Spending_Score_Average    8068 non-null   float64\n",
      " 18  Spending_Score_High       8068 non-null   float64\n",
      " 19  Spending_Score_Low        8068 non-null   float64\n",
      " 20  Var_1_Cat_1               8068 non-null   float64\n",
      " 21  Var_1_Cat_2               8068 non-null   float64\n",
      " 22  Var_1_Cat_3               8068 non-null   float64\n",
      " 23  Var_1_Cat_4               8068 non-null   float64\n",
      " 24  Var_1_Cat_5               8068 non-null   float64\n",
      " 25  Var_1_Cat_6               8068 non-null   float64\n",
      " 26  Var_1_Cat_7               8068 non-null   float64\n",
      " 27  Work_Experience_0.0       8068 non-null   float64\n",
      " 28  Work_Experience_1.0       8068 non-null   float64\n",
      " 29  Work_Experience_2.0       8068 non-null   float64\n",
      " 30  Work_Experience_3.0       8068 non-null   float64\n",
      " 31  Work_Experience_4.0       8068 non-null   float64\n",
      " 32  Work_Experience_5.0       8068 non-null   float64\n",
      " 33  Work_Experience_6.0       8068 non-null   float64\n",
      " 34  Work_Experience_7.0       8068 non-null   float64\n",
      " 35  Work_Experience_8.0       8068 non-null   float64\n",
      " 36  Work_Experience_9.0       8068 non-null   float64\n",
      " 37  Work_Experience_10.0      8068 non-null   float64\n",
      " 38  Work_Experience_11.0      8068 non-null   float64\n",
      " 39  Work_Experience_12.0      8068 non-null   float64\n",
      " 40  Work_Experience_13.0      8068 non-null   float64\n",
      " 41  Work_Experience_14.0      8068 non-null   float64\n",
      " 42  Family_Size_1.0           8068 non-null   float64\n",
      " 43  Family_Size_2.0           8068 non-null   float64\n",
      " 44  Family_Size_3.0           8068 non-null   float64\n",
      " 45  Family_Size_4.0           8068 non-null   float64\n",
      " 46  Family_Size_5.0           8068 non-null   float64\n",
      " 47  Family_Size_6.0           8068 non-null   float64\n",
      " 48  Family_Size_7.0           8068 non-null   float64\n",
      " 49  Family_Size_8.0           8068 non-null   float64\n",
      " 50  Family_Size_9.0           8068 non-null   float64\n",
      "dtypes: float64(49), int32(1), int64(1)\n",
      "memory usage: 3.1 MB\n"
     ]
    }
   ],
   "source": [
    "df.info()"
   ]
  },
  {
   "cell_type": "markdown",
   "id": "a1995c6c-7ccd-4475-9101-0688712e4273",
   "metadata": {},
   "source": [
    "## 3.1 SPLITTING THE DATASET INTO TRAIN AND TEST"
   ]
  },
  {
   "cell_type": "markdown",
   "id": "4f283d85-085f-4c62-aa8c-77dfa88483aa",
   "metadata": {},
   "source": [
    "The meticulous division of the dataset into training and test sets signifies a deliberate preparation, akin to priming a canvas before the creation of a masterpiece. The training set becomes the crucible of learning, while the test set stands as the objective evaluator, collectively contributing to the establishment of a proficient and trustworthy Customer Segmentation Prediction System."
   ]
  },
  {
   "cell_type": "code",
   "execution_count": 36,
   "id": "de1ce568-1119-469c-b0b7-7dca90b45b15",
   "metadata": {},
   "outputs": [
    {
     "data": {
      "text/plain": [
       "0       3\n",
       "1       0\n",
       "2       1\n",
       "3       1\n",
       "4       0\n",
       "       ..\n",
       "8063    3\n",
       "8064    3\n",
       "8065    3\n",
       "8066    1\n",
       "8067    1\n",
       "Name: Segmentation, Length: 8068, dtype: int32"
      ]
     },
     "execution_count": 36,
     "metadata": {},
     "output_type": "execute_result"
    }
   ],
   "source": [
    "df[\"Segmentation\"]\n"
   ]
  },
  {
   "cell_type": "code",
   "execution_count": 37,
   "id": "32e9a8fd-5e00-44df-8edb-d10fd3f10175",
   "metadata": {},
   "outputs": [],
   "source": [
    "y = df[\"Segmentation\"]\n",
    "X = df.drop(\"Segmentation\", axis = 1)"
   ]
  },
  {
   "cell_type": "code",
   "execution_count": 38,
   "id": "6e30d312-a73c-49ac-9834-26304f4c6824",
   "metadata": {},
   "outputs": [],
   "source": [
    "trainX, testX, trainy, testy = train_test_split(X, y, test_size=0.2)"
   ]
  },
  {
   "cell_type": "markdown",
   "id": "32e658ea-77d8-4d22-8c10-63175b720ec6",
   "metadata": {},
   "source": [
    "<div style=\"text-align: Left; padding: 10px; background-color:#3811c7; color:#ffffff; font-size: 26px; box-shadow: 0px 4px 8px rgba(0, 0, 0, 0.1);\">4.0 MODELLING AND EVALUATION</div>"
   ]
  },
  {
   "cell_type": "markdown",
   "id": "41dceaed-c2d4-452b-89ed-085cdbf93bc5",
   "metadata": {},
   "source": [
    "In the evolution of our Customer Segmentation Prediction System project, the Modeling and Evaluation section is the sanctum where predictive models come to life and their efficacy is rigorously assessed. This stage encompasses a structured process to ensure the models not only learn from the training data but also generalize well to make accurate predictions on unseen data"
   ]
  },
  {
   "cell_type": "code",
   "execution_count": 39,
   "id": "3e464fe8-8937-4333-92ba-fa433cdb4475",
   "metadata": {},
   "outputs": [],
   "source": [
    "performance_table = {}"
   ]
  },
  {
   "cell_type": "code",
   "execution_count": 40,
   "id": "ed1be573-2d79-4df8-a1d0-70fde7a0ef53",
   "metadata": {},
   "outputs": [],
   "source": [
    "model ='Random Forest', 'Desicion Tree', 'KNN', \"LogisticRegression\""
   ]
  },
  {
   "cell_type": "code",
   "execution_count": 41,
   "id": "ce1016a3-d5d8-4935-81a2-b371712f8e42",
   "metadata": {},
   "outputs": [],
   "source": [
    "Model = model"
   ]
  },
  {
   "cell_type": "markdown",
   "id": "712afd8c-9ce7-43bb-8371-236c174a3bf1",
   "metadata": {},
   "source": [
    "## 4.1 LOGISTIC REGRESSION"
   ]
  },
  {
   "cell_type": "markdown",
   "id": "c9661ad5-e59c-4e0e-acd3-ba67913dcc89",
   "metadata": {},
   "source": [
    "In the seas of predictive modeling for our Customer Segmentation Prediction System, Logistic Regression serves as our compass.\r\n",
    "\r\n",
    "Unlike its linear counterpart, this algorithm charts the probability waves, determining the likelihood of survival.\r\n",
    "\r\n",
    "As we voyage through numerical waters, Logistic Regression becomes our guide, predicting outcomes in a world that's not black and white but steeped in probabilities."
   ]
  },
  {
   "cell_type": "code",
   "execution_count": 42,
   "id": "e0441bc9-afda-4d3c-a017-10a8ce6ebebc",
   "metadata": {},
   "outputs": [],
   "source": [
    "logistic_model = LogisticRegression()"
   ]
  },
  {
   "cell_type": "code",
   "execution_count": 43,
   "id": "b9ff4912-1322-44f8-8abf-433f2d484bb5",
   "metadata": {},
   "outputs": [
    {
     "data": {
      "text/html": [
       "<style>#sk-container-id-1 {color: black;}#sk-container-id-1 pre{padding: 0;}#sk-container-id-1 div.sk-toggleable {background-color: white;}#sk-container-id-1 label.sk-toggleable__label {cursor: pointer;display: block;width: 100%;margin-bottom: 0;padding: 0.3em;box-sizing: border-box;text-align: center;}#sk-container-id-1 label.sk-toggleable__label-arrow:before {content: \"▸\";float: left;margin-right: 0.25em;color: #696969;}#sk-container-id-1 label.sk-toggleable__label-arrow:hover:before {color: black;}#sk-container-id-1 div.sk-estimator:hover label.sk-toggleable__label-arrow:before {color: black;}#sk-container-id-1 div.sk-toggleable__content {max-height: 0;max-width: 0;overflow: hidden;text-align: left;background-color: #f0f8ff;}#sk-container-id-1 div.sk-toggleable__content pre {margin: 0.2em;color: black;border-radius: 0.25em;background-color: #f0f8ff;}#sk-container-id-1 input.sk-toggleable__control:checked~div.sk-toggleable__content {max-height: 200px;max-width: 100%;overflow: auto;}#sk-container-id-1 input.sk-toggleable__control:checked~label.sk-toggleable__label-arrow:before {content: \"▾\";}#sk-container-id-1 div.sk-estimator input.sk-toggleable__control:checked~label.sk-toggleable__label {background-color: #d4ebff;}#sk-container-id-1 div.sk-label input.sk-toggleable__control:checked~label.sk-toggleable__label {background-color: #d4ebff;}#sk-container-id-1 input.sk-hidden--visually {border: 0;clip: rect(1px 1px 1px 1px);clip: rect(1px, 1px, 1px, 1px);height: 1px;margin: -1px;overflow: hidden;padding: 0;position: absolute;width: 1px;}#sk-container-id-1 div.sk-estimator {font-family: monospace;background-color: #f0f8ff;border: 1px dotted black;border-radius: 0.25em;box-sizing: border-box;margin-bottom: 0.5em;}#sk-container-id-1 div.sk-estimator:hover {background-color: #d4ebff;}#sk-container-id-1 div.sk-parallel-item::after {content: \"\";width: 100%;border-bottom: 1px solid gray;flex-grow: 1;}#sk-container-id-1 div.sk-label:hover label.sk-toggleable__label {background-color: #d4ebff;}#sk-container-id-1 div.sk-serial::before {content: \"\";position: absolute;border-left: 1px solid gray;box-sizing: border-box;top: 0;bottom: 0;left: 50%;z-index: 0;}#sk-container-id-1 div.sk-serial {display: flex;flex-direction: column;align-items: center;background-color: white;padding-right: 0.2em;padding-left: 0.2em;position: relative;}#sk-container-id-1 div.sk-item {position: relative;z-index: 1;}#sk-container-id-1 div.sk-parallel {display: flex;align-items: stretch;justify-content: center;background-color: white;position: relative;}#sk-container-id-1 div.sk-item::before, #sk-container-id-1 div.sk-parallel-item::before {content: \"\";position: absolute;border-left: 1px solid gray;box-sizing: border-box;top: 0;bottom: 0;left: 50%;z-index: -1;}#sk-container-id-1 div.sk-parallel-item {display: flex;flex-direction: column;z-index: 1;position: relative;background-color: white;}#sk-container-id-1 div.sk-parallel-item:first-child::after {align-self: flex-end;width: 50%;}#sk-container-id-1 div.sk-parallel-item:last-child::after {align-self: flex-start;width: 50%;}#sk-container-id-1 div.sk-parallel-item:only-child::after {width: 0;}#sk-container-id-1 div.sk-dashed-wrapped {border: 1px dashed gray;margin: 0 0.4em 0.5em 0.4em;box-sizing: border-box;padding-bottom: 0.4em;background-color: white;}#sk-container-id-1 div.sk-label label {font-family: monospace;font-weight: bold;display: inline-block;line-height: 1.2em;}#sk-container-id-1 div.sk-label-container {text-align: center;}#sk-container-id-1 div.sk-container {/* jupyter's `normalize.less` sets `[hidden] { display: none; }` but bootstrap.min.css set `[hidden] { display: none !important; }` so we also need the `!important` here to be able to override the default hidden behavior on the sphinx rendered scikit-learn.org. See: https://github.com/scikit-learn/scikit-learn/issues/21755 */display: inline-block !important;position: relative;}#sk-container-id-1 div.sk-text-repr-fallback {display: none;}</style><div id=\"sk-container-id-1\" class=\"sk-top-container\"><div class=\"sk-text-repr-fallback\"><pre>LogisticRegression()</pre><b>In a Jupyter environment, please rerun this cell to show the HTML representation or trust the notebook. <br />On GitHub, the HTML representation is unable to render, please try loading this page with nbviewer.org.</b></div><div class=\"sk-container\" hidden><div class=\"sk-item\"><div class=\"sk-estimator sk-toggleable\"><input class=\"sk-toggleable__control sk-hidden--visually\" id=\"sk-estimator-id-1\" type=\"checkbox\" checked><label for=\"sk-estimator-id-1\" class=\"sk-toggleable__label sk-toggleable__label-arrow\">LogisticRegression</label><div class=\"sk-toggleable__content\"><pre>LogisticRegression()</pre></div></div></div></div></div>"
      ],
      "text/plain": [
       "LogisticRegression()"
      ]
     },
     "execution_count": 43,
     "metadata": {},
     "output_type": "execute_result"
    }
   ],
   "source": [
    "logistic_model.fit(trainX, trainy)"
   ]
  },
  {
   "cell_type": "code",
   "execution_count": 44,
   "id": "6f228646-0ccb-43f8-844a-a9faa6c3707e",
   "metadata": {},
   "outputs": [
    {
     "data": {
      "text/plain": [
       "array([0, 2, 3, ..., 0, 2, 2])"
      ]
     },
     "execution_count": 44,
     "metadata": {},
     "output_type": "execute_result"
    }
   ],
   "source": [
    "Model1 = logistic_model.predict(testX)\n",
    "Model1"
   ]
  },
  {
   "cell_type": "code",
   "execution_count": 45,
   "id": "09cc5a25-2be6-43b9-b353-496c3e4fba4b",
   "metadata": {},
   "outputs": [
    {
     "name": "stdout",
     "output_type": "stream",
     "text": [
      "              precision    recall  f1-score   support\n",
      "\n",
      "           0       0.44      0.41      0.42       443\n",
      "           1       0.17      0.39      0.24       164\n",
      "           2       0.64      0.48      0.55       541\n",
      "           3       0.68      0.62      0.65       466\n",
      "\n",
      "    accuracy                           0.49      1614\n",
      "   macro avg       0.48      0.48      0.47      1614\n",
      "weighted avg       0.55      0.49      0.51      1614\n",
      "\n"
     ]
    }
   ],
   "source": [
    "print(classification_report(Model1,testy))"
   ]
  },
  {
   "cell_type": "code",
   "execution_count": 46,
   "id": "21b4cfce-01e1-4292-a7b9-42503040f847",
   "metadata": {},
   "outputs": [
    {
     "data": {
      "text/plain": [
       "{'Logistic Regression': [0.49318463444857497,\n",
       "  0.5489351511677949,\n",
       "  0.5126659123007877]}"
      ]
     },
     "execution_count": 46,
     "metadata": {},
     "output_type": "execute_result"
    }
   ],
   "source": [
    "report1 = classification_report(testy, Model1, target_names = ['class 0', 'class 1', 'class 2', 'class 3'])\n",
    "\n",
    "recall = recall_score(Model1, testy, average='weighted')\n",
    "precision = precision_score(Model1, testy, average='weighted')\n",
    "fi_score = f1_score(Model1, testy, average='weighted')\n",
    "\n",
    "performance_table.update({'Logistic Regression': [recall, precision, fi_score]})\n",
    "\n",
    "performance_table"
   ]
  },
  {
   "cell_type": "markdown",
   "id": "68b2ef96-a46f-4ed6-b2fb-386257c9af2f",
   "metadata": {},
   "source": [
    "## 4.2 DECISION TREE CLASSIFIER"
   ]
  },
  {
   "cell_type": "markdown",
   "id": "dc199afb-43bc-4b9a-9b0f-04e1adb7b78b",
   "metadata": {},
   "source": [
    "In our Customer Segmentation System, the Decision Tree Classifier stands as a key player in our ensemble of predictive models.\n",
    "\n",
    "This algorithm, like the branching paths of a tree, makes decisions based on features, guiding us through the intricacies of survival prediction.\n",
    "\n",
    "As we traverse this data woodland, each split becomes a clue, and each leaf a revelation."
   ]
  },
  {
   "cell_type": "code",
   "execution_count": 47,
   "id": "f7349a0e-f0e9-4432-bb0f-5df93ad827c8",
   "metadata": {},
   "outputs": [],
   "source": [
    "model2 = DecisionTreeClassifier()"
   ]
  },
  {
   "cell_type": "code",
   "execution_count": 48,
   "id": "1b365417-5db3-4535-a42c-e3cd63dfb022",
   "metadata": {},
   "outputs": [
    {
     "data": {
      "text/plain": [
       "array([0, 2, 3, ..., 3, 1, 3])"
      ]
     },
     "execution_count": 48,
     "metadata": {},
     "output_type": "execute_result"
    }
   ],
   "source": [
    "model2.fit(trainX, trainy)\n",
    "pred2 = model2.predict(testX)\n",
    "pred2"
   ]
  },
  {
   "cell_type": "code",
   "execution_count": 49,
   "id": "4958cabb-b928-4fb8-b42e-4b7c7fc1383f",
   "metadata": {},
   "outputs": [
    {
     "name": "stdout",
     "output_type": "stream",
     "text": [
      "              precision    recall  f1-score   support\n",
      "\n",
      "           0       0.41      0.38      0.39       437\n",
      "           1       0.32      0.32      0.32       374\n",
      "           2       0.38      0.43      0.40       366\n",
      "           3       0.59      0.57      0.58       437\n",
      "\n",
      "    accuracy                           0.43      1614\n",
      "   macro avg       0.42      0.42      0.42      1614\n",
      "weighted avg       0.43      0.43      0.43      1614\n",
      "\n"
     ]
    }
   ],
   "source": [
    "print(classification_report(pred2,testy))"
   ]
  },
  {
   "cell_type": "code",
   "execution_count": 50,
   "id": "e8e1771c-73e8-43bd-bf8b-ee032948ab5a",
   "metadata": {},
   "outputs": [
    {
     "data": {
      "text/plain": [
       "{'Logistic Regression': [0.49318463444857497,\n",
       "  0.5489351511677949,\n",
       "  0.5126659123007877],\n",
       " 'Decision Tree Classifier': [0.4275092936802974,\n",
       "  0.4290068414555775,\n",
       "  0.42783531756132415]}"
      ]
     },
     "execution_count": 50,
     "metadata": {},
     "output_type": "execute_result"
    }
   ],
   "source": [
    "report2 = classification_report(testy, pred2, target_names = ['class 0', 'class 1', 'class 2', 'class 3'])\n",
    "\n",
    "recall = recall_score(pred2, testy, average='weighted')\n",
    "precision = precision_score(pred2, testy, average='weighted')\n",
    "fi_score = f1_score(pred2, testy, average='weighted')\n",
    "\n",
    "performance_table.update({'Decision Tree Classifier': [recall, precision, fi_score]})\n",
    "\n",
    "performance_table"
   ]
  },
  {
   "cell_type": "markdown",
   "id": "90d05293-6220-4075-9867-40ed4dd6dc24",
   "metadata": {},
   "source": [
    "## 4.3 KNEIGHBORS CLASSIFIER"
   ]
  },
  {
   "cell_type": "markdown",
   "id": "381c99c5-adfc-4eed-a6a2-329f73d65753",
   "metadata": {},
   "source": [
    "Picture the k-Neighbors Classifier as a friendly guide in our Titanic Prediction System. It makes predictions based on what its closest neighbors think. If they lean towards survival or otherwise, so does our prediction. It's like making decisions by checking with nearby friends."
   ]
  },
  {
   "cell_type": "code",
   "execution_count": 51,
   "id": "7605d193-8223-4525-9060-ef1dd18c5e47",
   "metadata": {},
   "outputs": [],
   "source": [
    "model3 = KNeighborsClassifier()"
   ]
  },
  {
   "cell_type": "code",
   "execution_count": 52,
   "id": "9c653d3a-cb6f-47c3-ab21-562e89a330b4",
   "metadata": {},
   "outputs": [
    {
     "data": {
      "text/html": [
       "<style>#sk-container-id-2 {color: black;}#sk-container-id-2 pre{padding: 0;}#sk-container-id-2 div.sk-toggleable {background-color: white;}#sk-container-id-2 label.sk-toggleable__label {cursor: pointer;display: block;width: 100%;margin-bottom: 0;padding: 0.3em;box-sizing: border-box;text-align: center;}#sk-container-id-2 label.sk-toggleable__label-arrow:before {content: \"▸\";float: left;margin-right: 0.25em;color: #696969;}#sk-container-id-2 label.sk-toggleable__label-arrow:hover:before {color: black;}#sk-container-id-2 div.sk-estimator:hover label.sk-toggleable__label-arrow:before {color: black;}#sk-container-id-2 div.sk-toggleable__content {max-height: 0;max-width: 0;overflow: hidden;text-align: left;background-color: #f0f8ff;}#sk-container-id-2 div.sk-toggleable__content pre {margin: 0.2em;color: black;border-radius: 0.25em;background-color: #f0f8ff;}#sk-container-id-2 input.sk-toggleable__control:checked~div.sk-toggleable__content {max-height: 200px;max-width: 100%;overflow: auto;}#sk-container-id-2 input.sk-toggleable__control:checked~label.sk-toggleable__label-arrow:before {content: \"▾\";}#sk-container-id-2 div.sk-estimator input.sk-toggleable__control:checked~label.sk-toggleable__label {background-color: #d4ebff;}#sk-container-id-2 div.sk-label input.sk-toggleable__control:checked~label.sk-toggleable__label {background-color: #d4ebff;}#sk-container-id-2 input.sk-hidden--visually {border: 0;clip: rect(1px 1px 1px 1px);clip: rect(1px, 1px, 1px, 1px);height: 1px;margin: -1px;overflow: hidden;padding: 0;position: absolute;width: 1px;}#sk-container-id-2 div.sk-estimator {font-family: monospace;background-color: #f0f8ff;border: 1px dotted black;border-radius: 0.25em;box-sizing: border-box;margin-bottom: 0.5em;}#sk-container-id-2 div.sk-estimator:hover {background-color: #d4ebff;}#sk-container-id-2 div.sk-parallel-item::after {content: \"\";width: 100%;border-bottom: 1px solid gray;flex-grow: 1;}#sk-container-id-2 div.sk-label:hover label.sk-toggleable__label {background-color: #d4ebff;}#sk-container-id-2 div.sk-serial::before {content: \"\";position: absolute;border-left: 1px solid gray;box-sizing: border-box;top: 0;bottom: 0;left: 50%;z-index: 0;}#sk-container-id-2 div.sk-serial {display: flex;flex-direction: column;align-items: center;background-color: white;padding-right: 0.2em;padding-left: 0.2em;position: relative;}#sk-container-id-2 div.sk-item {position: relative;z-index: 1;}#sk-container-id-2 div.sk-parallel {display: flex;align-items: stretch;justify-content: center;background-color: white;position: relative;}#sk-container-id-2 div.sk-item::before, #sk-container-id-2 div.sk-parallel-item::before {content: \"\";position: absolute;border-left: 1px solid gray;box-sizing: border-box;top: 0;bottom: 0;left: 50%;z-index: -1;}#sk-container-id-2 div.sk-parallel-item {display: flex;flex-direction: column;z-index: 1;position: relative;background-color: white;}#sk-container-id-2 div.sk-parallel-item:first-child::after {align-self: flex-end;width: 50%;}#sk-container-id-2 div.sk-parallel-item:last-child::after {align-self: flex-start;width: 50%;}#sk-container-id-2 div.sk-parallel-item:only-child::after {width: 0;}#sk-container-id-2 div.sk-dashed-wrapped {border: 1px dashed gray;margin: 0 0.4em 0.5em 0.4em;box-sizing: border-box;padding-bottom: 0.4em;background-color: white;}#sk-container-id-2 div.sk-label label {font-family: monospace;font-weight: bold;display: inline-block;line-height: 1.2em;}#sk-container-id-2 div.sk-label-container {text-align: center;}#sk-container-id-2 div.sk-container {/* jupyter's `normalize.less` sets `[hidden] { display: none; }` but bootstrap.min.css set `[hidden] { display: none !important; }` so we also need the `!important` here to be able to override the default hidden behavior on the sphinx rendered scikit-learn.org. See: https://github.com/scikit-learn/scikit-learn/issues/21755 */display: inline-block !important;position: relative;}#sk-container-id-2 div.sk-text-repr-fallback {display: none;}</style><div id=\"sk-container-id-2\" class=\"sk-top-container\"><div class=\"sk-text-repr-fallback\"><pre>KNeighborsClassifier()</pre><b>In a Jupyter environment, please rerun this cell to show the HTML representation or trust the notebook. <br />On GitHub, the HTML representation is unable to render, please try loading this page with nbviewer.org.</b></div><div class=\"sk-container\" hidden><div class=\"sk-item\"><div class=\"sk-estimator sk-toggleable\"><input class=\"sk-toggleable__control sk-hidden--visually\" id=\"sk-estimator-id-2\" type=\"checkbox\" checked><label for=\"sk-estimator-id-2\" class=\"sk-toggleable__label sk-toggleable__label-arrow\">KNeighborsClassifier</label><div class=\"sk-toggleable__content\"><pre>KNeighborsClassifier()</pre></div></div></div></div></div>"
      ],
      "text/plain": [
       "KNeighborsClassifier()"
      ]
     },
     "execution_count": 52,
     "metadata": {},
     "output_type": "execute_result"
    }
   ],
   "source": [
    "model3.fit(trainX, trainy)"
   ]
  },
  {
   "cell_type": "code",
   "execution_count": 53,
   "id": "8a29f044-44b0-4cf3-b10c-7ba5024f7160",
   "metadata": {},
   "outputs": [],
   "source": [
    "pred3 = model3.predict(testX)"
   ]
  },
  {
   "cell_type": "code",
   "execution_count": 54,
   "id": "52b88296-40c2-451a-90f8-00c1043773e7",
   "metadata": {},
   "outputs": [
    {
     "name": "stdout",
     "output_type": "stream",
     "text": [
      "              precision    recall  f1-score   support\n",
      "\n",
      "           0       0.49      0.43      0.46       469\n",
      "           1       0.32      0.30      0.31       390\n",
      "           2       0.46      0.49      0.48       381\n",
      "           3       0.55      0.62      0.58       374\n",
      "\n",
      "    accuracy                           0.46      1614\n",
      "   macro avg       0.45      0.46      0.46      1614\n",
      "weighted avg       0.45      0.46      0.45      1614\n",
      "\n"
     ]
    }
   ],
   "source": [
    "print(classification_report(pred3,testy))"
   ]
  },
  {
   "cell_type": "code",
   "execution_count": 55,
   "id": "604b9a36-93cb-4888-8890-bc0a2f7d7928",
   "metadata": {},
   "outputs": [
    {
     "data": {
      "text/plain": [
       "{'Logistic Regression': [0.49318463444857497,\n",
       "  0.5489351511677949,\n",
       "  0.5126659123007877],\n",
       " 'Decision Tree Classifier': [0.4275092936802974,\n",
       "  0.4290068414555775,\n",
       "  0.42783531756132415],\n",
       " 'KNN': [0.45786864931846344, 0.45437069318303674, 0.45470424246120056]}"
      ]
     },
     "execution_count": 55,
     "metadata": {},
     "output_type": "execute_result"
    }
   ],
   "source": [
    "report3 = classification_report(testy, pred3, target_names = ['class 0', 'class 1', 'class 2', 'class 3'])\n",
    "\n",
    "recall = recall_score(pred3, testy, average='weighted')\n",
    "precision = precision_score(pred3, testy, average='weighted')\n",
    "fi_score = f1_score(pred3, testy, average='weighted')\n",
    "\n",
    "performance_table.update({'KNN': [recall, precision, fi_score]})\n",
    "\n",
    "performance_table"
   ]
  },
  {
   "cell_type": "markdown",
   "id": "da17ffd6-dd23-403f-878f-7fb234676403",
   "metadata": {},
   "source": [
    "## 4.4 RANDOM FOREST CLASSIFIER"
   ]
  },
  {
   "cell_type": "markdown",
   "id": "30287f16-e73c-42cc-9862-23f003119ade",
   "metadata": {},
   "source": [
    "In the realm of our Customer Segmentation Prediction System, the Random Forest Classifier is like a wise forest, where each tree holds a unique perspective.\n",
    "\n",
    "It combines the collective wisdom of many trees, each contributing to a decision based on its own experiences.\n",
    "\n",
    "Together, they form a resilient forest that navigates the complexities of customer segmentation prediction. Join us as we venture into this algorithmic woodland, where the strength lies in the diversity of perspectives."
   ]
  },
  {
   "cell_type": "code",
   "execution_count": 56,
   "id": "c765947c-c349-4704-bd64-757c56af4934",
   "metadata": {},
   "outputs": [],
   "source": [
    "model4 = RandomForestClassifier()"
   ]
  },
  {
   "cell_type": "code",
   "execution_count": 57,
   "id": "6725c2d4-df6b-4a95-855d-149bf55e9978",
   "metadata": {},
   "outputs": [
    {
     "data": {
      "text/html": [
       "<style>#sk-container-id-3 {color: black;}#sk-container-id-3 pre{padding: 0;}#sk-container-id-3 div.sk-toggleable {background-color: white;}#sk-container-id-3 label.sk-toggleable__label {cursor: pointer;display: block;width: 100%;margin-bottom: 0;padding: 0.3em;box-sizing: border-box;text-align: center;}#sk-container-id-3 label.sk-toggleable__label-arrow:before {content: \"▸\";float: left;margin-right: 0.25em;color: #696969;}#sk-container-id-3 label.sk-toggleable__label-arrow:hover:before {color: black;}#sk-container-id-3 div.sk-estimator:hover label.sk-toggleable__label-arrow:before {color: black;}#sk-container-id-3 div.sk-toggleable__content {max-height: 0;max-width: 0;overflow: hidden;text-align: left;background-color: #f0f8ff;}#sk-container-id-3 div.sk-toggleable__content pre {margin: 0.2em;color: black;border-radius: 0.25em;background-color: #f0f8ff;}#sk-container-id-3 input.sk-toggleable__control:checked~div.sk-toggleable__content {max-height: 200px;max-width: 100%;overflow: auto;}#sk-container-id-3 input.sk-toggleable__control:checked~label.sk-toggleable__label-arrow:before {content: \"▾\";}#sk-container-id-3 div.sk-estimator input.sk-toggleable__control:checked~label.sk-toggleable__label {background-color: #d4ebff;}#sk-container-id-3 div.sk-label input.sk-toggleable__control:checked~label.sk-toggleable__label {background-color: #d4ebff;}#sk-container-id-3 input.sk-hidden--visually {border: 0;clip: rect(1px 1px 1px 1px);clip: rect(1px, 1px, 1px, 1px);height: 1px;margin: -1px;overflow: hidden;padding: 0;position: absolute;width: 1px;}#sk-container-id-3 div.sk-estimator {font-family: monospace;background-color: #f0f8ff;border: 1px dotted black;border-radius: 0.25em;box-sizing: border-box;margin-bottom: 0.5em;}#sk-container-id-3 div.sk-estimator:hover {background-color: #d4ebff;}#sk-container-id-3 div.sk-parallel-item::after {content: \"\";width: 100%;border-bottom: 1px solid gray;flex-grow: 1;}#sk-container-id-3 div.sk-label:hover label.sk-toggleable__label {background-color: #d4ebff;}#sk-container-id-3 div.sk-serial::before {content: \"\";position: absolute;border-left: 1px solid gray;box-sizing: border-box;top: 0;bottom: 0;left: 50%;z-index: 0;}#sk-container-id-3 div.sk-serial {display: flex;flex-direction: column;align-items: center;background-color: white;padding-right: 0.2em;padding-left: 0.2em;position: relative;}#sk-container-id-3 div.sk-item {position: relative;z-index: 1;}#sk-container-id-3 div.sk-parallel {display: flex;align-items: stretch;justify-content: center;background-color: white;position: relative;}#sk-container-id-3 div.sk-item::before, #sk-container-id-3 div.sk-parallel-item::before {content: \"\";position: absolute;border-left: 1px solid gray;box-sizing: border-box;top: 0;bottom: 0;left: 50%;z-index: -1;}#sk-container-id-3 div.sk-parallel-item {display: flex;flex-direction: column;z-index: 1;position: relative;background-color: white;}#sk-container-id-3 div.sk-parallel-item:first-child::after {align-self: flex-end;width: 50%;}#sk-container-id-3 div.sk-parallel-item:last-child::after {align-self: flex-start;width: 50%;}#sk-container-id-3 div.sk-parallel-item:only-child::after {width: 0;}#sk-container-id-3 div.sk-dashed-wrapped {border: 1px dashed gray;margin: 0 0.4em 0.5em 0.4em;box-sizing: border-box;padding-bottom: 0.4em;background-color: white;}#sk-container-id-3 div.sk-label label {font-family: monospace;font-weight: bold;display: inline-block;line-height: 1.2em;}#sk-container-id-3 div.sk-label-container {text-align: center;}#sk-container-id-3 div.sk-container {/* jupyter's `normalize.less` sets `[hidden] { display: none; }` but bootstrap.min.css set `[hidden] { display: none !important; }` so we also need the `!important` here to be able to override the default hidden behavior on the sphinx rendered scikit-learn.org. See: https://github.com/scikit-learn/scikit-learn/issues/21755 */display: inline-block !important;position: relative;}#sk-container-id-3 div.sk-text-repr-fallback {display: none;}</style><div id=\"sk-container-id-3\" class=\"sk-top-container\"><div class=\"sk-text-repr-fallback\"><pre>RandomForestClassifier()</pre><b>In a Jupyter environment, please rerun this cell to show the HTML representation or trust the notebook. <br />On GitHub, the HTML representation is unable to render, please try loading this page with nbviewer.org.</b></div><div class=\"sk-container\" hidden><div class=\"sk-item\"><div class=\"sk-estimator sk-toggleable\"><input class=\"sk-toggleable__control sk-hidden--visually\" id=\"sk-estimator-id-3\" type=\"checkbox\" checked><label for=\"sk-estimator-id-3\" class=\"sk-toggleable__label sk-toggleable__label-arrow\">RandomForestClassifier</label><div class=\"sk-toggleable__content\"><pre>RandomForestClassifier()</pre></div></div></div></div></div>"
      ],
      "text/plain": [
       "RandomForestClassifier()"
      ]
     },
     "execution_count": 57,
     "metadata": {},
     "output_type": "execute_result"
    }
   ],
   "source": [
    "model4.fit(trainX, trainy)"
   ]
  },
  {
   "cell_type": "code",
   "execution_count": 58,
   "id": "63e665d8-44d7-4e03-80fa-a73ccd585b2c",
   "metadata": {},
   "outputs": [],
   "source": [
    "pred4 = model4.predict(testX)"
   ]
  },
  {
   "cell_type": "code",
   "execution_count": 59,
   "id": "5488d0ba-9d04-4615-b411-b3cf0e35b196",
   "metadata": {},
   "outputs": [
    {
     "name": "stdout",
     "output_type": "stream",
     "text": [
      "              precision    recall  f1-score   support\n",
      "\n",
      "           0       0.42      0.43      0.42       393\n",
      "           1       0.35      0.38      0.37       336\n",
      "           2       0.48      0.53      0.51       372\n",
      "           3       0.68      0.57      0.62       513\n",
      "\n",
      "    accuracy                           0.49      1614\n",
      "   macro avg       0.48      0.48      0.48      1614\n",
      "weighted avg       0.50      0.49      0.49      1614\n",
      "\n"
     ]
    }
   ],
   "source": [
    "print(classification_report(pred4,testy))"
   ]
  },
  {
   "cell_type": "code",
   "execution_count": 60,
   "id": "52d42684-028c-45e9-b720-5a50856b354a",
   "metadata": {},
   "outputs": [
    {
     "data": {
      "text/plain": [
       "{'Logistic Regression': [0.49318463444857497,\n",
       "  0.5489351511677949,\n",
       "  0.5126659123007877],\n",
       " 'Decision Tree Classifier': [0.4275092936802974,\n",
       "  0.4290068414555775,\n",
       "  0.42783531756132415],\n",
       " 'KNN': [0.45786864931846344, 0.45437069318303674, 0.45470424246120056],\n",
       " 'RandomForest': [0.4888475836431227, 0.502919065610614, 0.4937452248187934]}"
      ]
     },
     "execution_count": 60,
     "metadata": {},
     "output_type": "execute_result"
    }
   ],
   "source": [
    "report4 = classification_report(testy, pred4, target_names = ['class 0', 'class 1', 'class 2', 'class 3'])\n",
    "\n",
    "recall = recall_score(pred4, testy, average='weighted')\n",
    "precision = precision_score(pred4, testy, average='weighted')\n",
    "fi_score = f1_score(pred4, testy, average='weighted')\n",
    "\n",
    "performance_table.update({'RandomForest': [recall, precision, fi_score]})\n",
    "\n",
    "performance_table"
   ]
  },
  {
   "cell_type": "code",
   "execution_count": 61,
   "id": "7e79469e-4a87-4689-a336-0f20a1dbb4af",
   "metadata": {},
   "outputs": [],
   "source": [
    "model5 = RidgeClassifier()"
   ]
  },
  {
   "cell_type": "code",
   "execution_count": 62,
   "id": "8ccb8743-64ee-47a9-92e5-3fef1d2d514d",
   "metadata": {},
   "outputs": [
    {
     "data": {
      "text/html": [
       "<style>#sk-container-id-4 {color: black;}#sk-container-id-4 pre{padding: 0;}#sk-container-id-4 div.sk-toggleable {background-color: white;}#sk-container-id-4 label.sk-toggleable__label {cursor: pointer;display: block;width: 100%;margin-bottom: 0;padding: 0.3em;box-sizing: border-box;text-align: center;}#sk-container-id-4 label.sk-toggleable__label-arrow:before {content: \"▸\";float: left;margin-right: 0.25em;color: #696969;}#sk-container-id-4 label.sk-toggleable__label-arrow:hover:before {color: black;}#sk-container-id-4 div.sk-estimator:hover label.sk-toggleable__label-arrow:before {color: black;}#sk-container-id-4 div.sk-toggleable__content {max-height: 0;max-width: 0;overflow: hidden;text-align: left;background-color: #f0f8ff;}#sk-container-id-4 div.sk-toggleable__content pre {margin: 0.2em;color: black;border-radius: 0.25em;background-color: #f0f8ff;}#sk-container-id-4 input.sk-toggleable__control:checked~div.sk-toggleable__content {max-height: 200px;max-width: 100%;overflow: auto;}#sk-container-id-4 input.sk-toggleable__control:checked~label.sk-toggleable__label-arrow:before {content: \"▾\";}#sk-container-id-4 div.sk-estimator input.sk-toggleable__control:checked~label.sk-toggleable__label {background-color: #d4ebff;}#sk-container-id-4 div.sk-label input.sk-toggleable__control:checked~label.sk-toggleable__label {background-color: #d4ebff;}#sk-container-id-4 input.sk-hidden--visually {border: 0;clip: rect(1px 1px 1px 1px);clip: rect(1px, 1px, 1px, 1px);height: 1px;margin: -1px;overflow: hidden;padding: 0;position: absolute;width: 1px;}#sk-container-id-4 div.sk-estimator {font-family: monospace;background-color: #f0f8ff;border: 1px dotted black;border-radius: 0.25em;box-sizing: border-box;margin-bottom: 0.5em;}#sk-container-id-4 div.sk-estimator:hover {background-color: #d4ebff;}#sk-container-id-4 div.sk-parallel-item::after {content: \"\";width: 100%;border-bottom: 1px solid gray;flex-grow: 1;}#sk-container-id-4 div.sk-label:hover label.sk-toggleable__label {background-color: #d4ebff;}#sk-container-id-4 div.sk-serial::before {content: \"\";position: absolute;border-left: 1px solid gray;box-sizing: border-box;top: 0;bottom: 0;left: 50%;z-index: 0;}#sk-container-id-4 div.sk-serial {display: flex;flex-direction: column;align-items: center;background-color: white;padding-right: 0.2em;padding-left: 0.2em;position: relative;}#sk-container-id-4 div.sk-item {position: relative;z-index: 1;}#sk-container-id-4 div.sk-parallel {display: flex;align-items: stretch;justify-content: center;background-color: white;position: relative;}#sk-container-id-4 div.sk-item::before, #sk-container-id-4 div.sk-parallel-item::before {content: \"\";position: absolute;border-left: 1px solid gray;box-sizing: border-box;top: 0;bottom: 0;left: 50%;z-index: -1;}#sk-container-id-4 div.sk-parallel-item {display: flex;flex-direction: column;z-index: 1;position: relative;background-color: white;}#sk-container-id-4 div.sk-parallel-item:first-child::after {align-self: flex-end;width: 50%;}#sk-container-id-4 div.sk-parallel-item:last-child::after {align-self: flex-start;width: 50%;}#sk-container-id-4 div.sk-parallel-item:only-child::after {width: 0;}#sk-container-id-4 div.sk-dashed-wrapped {border: 1px dashed gray;margin: 0 0.4em 0.5em 0.4em;box-sizing: border-box;padding-bottom: 0.4em;background-color: white;}#sk-container-id-4 div.sk-label label {font-family: monospace;font-weight: bold;display: inline-block;line-height: 1.2em;}#sk-container-id-4 div.sk-label-container {text-align: center;}#sk-container-id-4 div.sk-container {/* jupyter's `normalize.less` sets `[hidden] { display: none; }` but bootstrap.min.css set `[hidden] { display: none !important; }` so we also need the `!important` here to be able to override the default hidden behavior on the sphinx rendered scikit-learn.org. See: https://github.com/scikit-learn/scikit-learn/issues/21755 */display: inline-block !important;position: relative;}#sk-container-id-4 div.sk-text-repr-fallback {display: none;}</style><div id=\"sk-container-id-4\" class=\"sk-top-container\"><div class=\"sk-text-repr-fallback\"><pre>RidgeClassifier()</pre><b>In a Jupyter environment, please rerun this cell to show the HTML representation or trust the notebook. <br />On GitHub, the HTML representation is unable to render, please try loading this page with nbviewer.org.</b></div><div class=\"sk-container\" hidden><div class=\"sk-item\"><div class=\"sk-estimator sk-toggleable\"><input class=\"sk-toggleable__control sk-hidden--visually\" id=\"sk-estimator-id-4\" type=\"checkbox\" checked><label for=\"sk-estimator-id-4\" class=\"sk-toggleable__label sk-toggleable__label-arrow\">RidgeClassifier</label><div class=\"sk-toggleable__content\"><pre>RidgeClassifier()</pre></div></div></div></div></div>"
      ],
      "text/plain": [
       "RidgeClassifier()"
      ]
     },
     "execution_count": 62,
     "metadata": {},
     "output_type": "execute_result"
    }
   ],
   "source": [
    "model5.fit(trainX, trainy)"
   ]
  },
  {
   "cell_type": "code",
   "execution_count": 63,
   "id": "c59404f9-e7fb-4a9c-801b-806bf5f088b8",
   "metadata": {},
   "outputs": [],
   "source": [
    "pred5 = model5.predict(testX)"
   ]
  },
  {
   "cell_type": "code",
   "execution_count": 64,
   "id": "8ffceb3b-221a-465c-b9c1-89831130d79c",
   "metadata": {},
   "outputs": [
    {
     "name": "stdout",
     "output_type": "stream",
     "text": [
      "              precision    recall  f1-score   support\n",
      "\n",
      "           0       0.45      0.43      0.44       432\n",
      "           1       0.10      0.47      0.16        76\n",
      "           2       0.69      0.46      0.55       608\n",
      "           3       0.70      0.60      0.65       498\n",
      "\n",
      "    accuracy                           0.50      1614\n",
      "   macro avg       0.48      0.49      0.45      1614\n",
      "weighted avg       0.60      0.50      0.53      1614\n",
      "\n"
     ]
    }
   ],
   "source": [
    "print(classification_report(pred5,testy))"
   ]
  },
  {
   "cell_type": "markdown",
   "id": "6dd60441-539b-4e56-bb77-34255a6adb48",
   "metadata": {},
   "source": [
    "## 4.5 SAVING THE MODEL"
   ]
  },
  {
   "cell_type": "markdown",
   "id": "20184661-6da4-4f9e-8d1d-b8ee4bb97291",
   "metadata": {},
   "source": [
    "Preserving brilliance, one byte at a time!\n",
    "\n",
    "In the 'Saving the Models and Encoder' section, we're putting our winning machine-learning models and encoders into a digital vault.\n",
    "\n",
    "It's like safeguarding our data superheroes for future missions. We'll store their knowledge and powers, ensuring they're ready to leap into action whenever the need arises.\n",
    "\n",
    "Think of it as creating a superhero reserve for our data-driven endeavors!"
   ]
  },
  {
   "cell_type": "code",
   "execution_count": 65,
   "id": "b249d110-a04e-4ea5-841c-f88a1ed30425",
   "metadata": {},
   "outputs": [],
   "source": [
    "with open (\"Encoder/OneHotEncoder.pkl\", \"wb\") as f:\n",
    "    pkl.dump(Encode_me, f)\n",
    "    \n",
    "with open (\"Encoder/LabelEncoder.pkl\", \"wb\") as f:\n",
    "    pkl.dump(Encoder, f)\n",
    "\n",
    "\n",
    "with open (\"Model/LogisticRegression.pkl\", \"wb\") as f:\n",
    "    pkl.dump(logistic_model, f)\n",
    "\n",
    "with open (\"Model/DecisionTreeClassifier.pkl\", \"wb\") as f:\n",
    "    pkl.dump(model2, f)\n",
    "\n",
    "with open (\"Model/RandomForestClassifier.pkl\", \"wb\") as f:\n",
    "    pkl.dump(model3, f)\n",
    "    \n",
    "with open (\"Model/KNeighborsClassifier.pkl\", \"wb\") as f:\n",
    "    pkl.dump(model4, f)"
   ]
  },
  {
   "cell_type": "markdown",
   "id": "7e238352-e6c6-4ea4-9b3f-3bd9f0c34670",
   "metadata": {},
   "source": [
    "## 4.6 CHOICE OF MODEL"
   ]
  },
  {
   "cell_type": "code",
   "execution_count": 66,
   "id": "d19ef575-a318-42cd-a6ed-e152f4dd6de5",
   "metadata": {},
   "outputs": [],
   "source": [
    "performance_table = pd.DataFrame(performance_table, index=['recall', 'precision', 'fi_score'])\n",
    "\n",
    "performance_table = performance_table.T"
   ]
  },
  {
   "cell_type": "code",
   "execution_count": 67,
   "id": "ea3345d5-0950-4c3f-91e5-7c6e98178ba9",
   "metadata": {},
   "outputs": [
    {
     "data": {
      "text/plain": [
       "<Axes: xlabel='recall', ylabel='precision'>"
      ]
     },
     "execution_count": 67,
     "metadata": {},
     "output_type": "execute_result"
    },
    {
     "data": {
      "image/png": "[encoded data removed]",
      "text/plain": [
       "<Figure size 1500x800 with 1 Axes>"
      ]
     },
     "metadata": {},
     "output_type": "display_data"
    }
   ],
   "source": [
    "# scatter plot to compare the precision, accuracy and recall of all the models\n",
    "plt.figure(figsize=(15, 8))\n",
    "sns.scatterplot(x = 'recall', y = 'precision', data = performance_table, hue=performance_table.index, s=200)\n",
    "sns.lineplot(x = 'recall', y = 'precision', data = performance_table)\n"
   ]
  },
  {
   "cell_type": "markdown",
   "id": "3e7e224f-96f3-4ffa-a4c0-5ed60a1fd4bf",
   "metadata": {},
   "source": [
    "<div style=\"text-align: Left; padding: 10px; background-color:#3811c7; color:#ffffff; font-size: 26px; box-shadow: 0px 4px 8px rgba(0, 0, 0, 0.1);\">5.0 CONCLUSION</div>"
   ]
  },
  {
   "cell_type": "code",
   "execution_count": null,
   "id": "a653eaea-4c6d-4a64-b976-e242619b08c0",
   "metadata": {},
   "outputs": [],
   "source": []
  }
 ],
 "metadata": {
  "kernelspec": {
   "display_name": "Python 3 (ipykernel)",
   "language": "python",
   "name": "python3"
  },
  "language_info": {
   "codemirror_mode": {
    "name": "ipython",
    "version": 3
   },
   "file_extension": ".py",
   "mimetype": "text/x-python",
   "name": "python",
   "nbconvert_exporter": "python",
   "pygments_lexer": "ipython3",
   "version": "3.8.9"
  }
 },
 "nbformat": 4,
 "nbformat_minor": 5
}
